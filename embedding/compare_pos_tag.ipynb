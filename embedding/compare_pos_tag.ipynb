{
 "cells": [
  {
   "cell_type": "code",
   "execution_count": 1,
   "metadata": {},
   "outputs": [
    {
     "name": "stderr",
     "output_type": "stream",
     "text": [
      "C:\\Users\\limaries30\\.conda\\envs\\python3.6\\lib\\site-packages\\gensim\\utils.py:1197: UserWarning: detected Windows; aliasing chunkize to chunkize_serial\n",
      "  warnings.warn(\"detected Windows; aliasing chunkize to chunkize_serial\")\n"
     ]
    }
   ],
   "source": [
    "import pandas as pd\n",
    "import ast\n",
    "import re\n",
    "import time\n",
    "import numpy as np\n",
    "\n",
    "from konlpy.tag import Kkma, Okt, Hannanum\n",
    "import gensim"
   ]
  },
  {
   "cell_type": "code",
   "execution_count": 5,
   "metadata": {},
   "outputs": [],
   "source": [
    "class sampling_by_length:\n",
    "    def __init__(self,sent,n=10):\n",
    "        self.sent=sent\n",
    "        self.len_sent=n\n",
    "    \n",
    "#     def random_sample(self):\n",
    "#         first=np.random.randint(1,len(self.sent),1)[0]\n",
    "#         second=np.random.randint(1,len(self.sent[first-1]),1)[0]\n",
    "#         return self.sent[first-1][second-1]\n",
    "    \n",
    "    def sort_by_length(self):  #문장 length순으로 sorting\n",
    "        x=self.sample_sentences()\n",
    "        x.sort(key=lambda s:len(s))\n",
    "        lengthes=list(map(lambda x:len(x),x))\n",
    "        return list(zip(x,lengthes))\n",
    "\n",
    "    def sample_sentences(self):\n",
    "        sample_sentences=[]\n",
    "        numbers=np.random.randint(1,len(self.sent),self.len_sent)\n",
    "        for i in numbers:\n",
    "            sample_sentences.append(self.sent[i-1])\n",
    "        return sample_sentences\n",
    "\n",
    "def tokenizing_time_by_len(x,tokenizer):\n",
    "    len_time=[]\n",
    "    for i in x:\n",
    "        #tokenizer=tokenizer\n",
    "        start_time=time.time()\n",
    "        try:\n",
    "            tokenizer.pos(i[0].encode('utf-8'))\n",
    "        except:\n",
    "            print(i[0])\n",
    "            continue\n",
    "        end_time=time.time()\n",
    "        time_taken=end_time-start_time\n",
    "        len_time.append((i[1],time_taken))\n",
    "    return len_time\n",
    "\n",
    "\n",
    "def preprocessing(data):\n",
    "    lecture_sentences=list(map(lambda x:ast.literal_eval(x),data))\n",
    "    lecture_sentences=list(filter(lambda x:(len(x)!=0 and len(x)!=1),lecture_sentences)) #강의평이 없가나 1개 밖에 없는 경우 날림\n",
    "    lecture_sentences=[i for e in lecture_sentences for i in e]\n",
    "    return lecture_sentences"
   ]
  },
  {
   "cell_type": "code",
   "execution_count": 6,
   "metadata": {},
   "outputs": [],
   "source": [
    "my_data=pd.read_csv(r'../data/raw/2017_1.csv')\n",
    "lecture_sentences=preprocessing(my_data.LectureEval.values)\n",
    "# lecture_sentences=list(map(lambda x:p.findall(x),lecture_sentences))\n",
    "# lecture_sentences=[i for e in lecture_sentences for i in e]\n",
    "sampling_sent=sampling_by_length(lecture_sentences,1000)\n",
    "test_set=sampling_sent.sort_by_length()"
   ]
  },
  {
   "cell_type": "code",
   "execution_count": 5,
   "metadata": {},
   "outputs": [
    {
     "name": "stderr",
     "output_type": "stream",
     "text": [
      "C:\\ProgramData\\Anaconda3\\lib\\site-packages\\jpype\\_core.py:210: UserWarning: \n",
      "-------------------------------------------------------------------------------\n",
      "Deprecated: convertStrings was not specified when starting the JVM. The default\n",
      "behavior in JPype will be False starting in JPype 0.8. The recommended setting\n",
      "for new code is convertStrings=False.  The legacy value of True was assumed for\n",
      "this session. If you are a user of an application that reported this warning,\n",
      "please file a ticket with the developer.\n",
      "-------------------------------------------------------------------------------\n",
      "\n",
      "  \"\"\")\n"
     ]
    }
   ],
   "source": [
    "set_tokenizer=[('kkma',Kkma()),('okt',Okt()),('Hannanum',Hannanum())]\n",
    "performance={}\n",
    "for i in set_tokenizer:\n",
    "    performance[i[0]]=tokenizing_time_by_len(test_set,i[1])"
   ]
  },
  {
   "cell_type": "code",
   "execution_count": 19,
   "metadata": {},
   "outputs": [
    {
     "data": {
      "text/plain": [
       "[Text(0, 0.5, 'Time'), Text(0.5, 0, 'length of sentence')]"
      ]
     },
     "execution_count": 19,
     "metadata": {},
     "output_type": "execute_result"
    },
    {
     "data": {
      "image/png": "[encoded data removed]",
      "text/plain": [
       "<Figure size 432x288 with 1 Axes>"
      ]
     },
     "metadata": {
      "needs_background": "light"
     },
     "output_type": "display_data"
    }
   ],
   "source": [
    "import matplotlib.pyplot as plt\n",
    "import seaborn as sns\n",
    "fig, ax = plt.subplots()\n",
    "sns.lineplot(*zip(*performance['kkma']),label='kkma')\n",
    "sns.lineplot(*zip(*performance['okt']),label='okt')\n",
    "sns.lineplot(*zip(*performance['Hannanum']),label='hannanum')\n",
    "ax.set_xlim(100,1500)\n",
    "ax.set_ylim(0,2)\n",
    "ax.set(xlabel='length of sentence', ylabel='Time')"
   ]
  },
  {
   "cell_type": "markdown",
   "metadata": {},
   "source": [
    "## TODO\n",
    "\n",
    "- sample sentece 메소드 class 로 정리하기"
   ]
  },
  {
   "cell_type": "code",
   "execution_count": 50,
   "metadata": {},
   "outputs": [
    {
     "data": {
      "text/plain": [
       "(155, 227)"
      ]
     },
     "execution_count": 50,
     "metadata": {},
     "output_type": "execute_result"
    }
   ],
   "source": [
    "# a=[]\n",
    "# for i in trial[0]:\n",
    "#     a.append(i.split(' '))\n",
    "# model = gensim.models.Word2Vec(min_count=1)\n",
    "# model.build_vocab(a)\n",
    "# model.train(a,total_examples=model.corpus_count,epochs=1)"
   ]
  }
 ],
 "metadata": {
  "kernelspec": {
   "display_name": "Python 3",
   "language": "python",
   "name": "python3"
  },
  "language_info": {
   "codemirror_mode": {
    "name": "ipython",
    "version": 3
   },
   "file_extension": ".py",
   "mimetype": "text/x-python",
   "name": "python",
   "nbconvert_exporter": "python",
   "pygments_lexer": "ipython3",
   "version": "3.6.8"
  }
 },
 "nbformat": 4,
 "nbformat_minor": 2
}
