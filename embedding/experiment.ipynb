{
 "cells": [
  {
   "cell_type": "code",
   "execution_count": 101,
   "metadata": {},
   "outputs": [],
   "source": [
    "import numpy as np\n",
    "import imp\n",
    "import w2v_ns\n",
    "imp.reload(w2v_ns)\n",
    "\n",
    "import torch\n",
    "import torch.nn as nn"
   ]
  },
  {
   "cell_type": "code",
   "execution_count": 266,
   "metadata": {},
   "outputs": [
    {
     "name": "stdout",
     "output_type": "stream",
     "text": [
      "tensor([[-7.0722e-01, -2.2900e-01,  1.1376e+00,  4.8296e-01, -2.5962e+00,\n",
      "         -2.0160e-01,  1.0181e+00, -3.7189e-02, -2.7295e-02,  1.3638e+00],\n",
      "        [ 1.4559e+00, -9.1085e-01,  4.6479e-01,  7.5106e-01,  1.3679e+00,\n",
      "          6.9926e-04,  1.0910e+00,  1.0589e-01, -5.6384e-01, -1.0696e-01],\n",
      "        [-8.6513e-01,  1.8699e-01,  4.0268e-01, -5.5249e-01, -2.9471e-01,\n",
      "         -4.1893e-01, -2.9043e+00,  5.6808e-01,  2.1044e-01, -8.9919e-02]],\n",
      "       requires_grad=True)\n",
      "tensor([1, 1, 1])\n",
      "tensor(2.9464, grad_fn=<NllLossBackward>)\n"
     ]
    }
   ],
   "source": [
    "input = torch.randn(3, 50, requires_grad=True)\n",
    "target = torch.empty(3, dtype=torch.long).random_(5)\n",
    "loss=negative_sampling(target,input,vocab_len=50,n=10)\n",
    "loss.backward()\n",
    "print(loss)"
   ]
  },
  {
   "cell_type": "code",
   "execution_count": 40,
   "metadata": {},
   "outputs": [],
   "source": [
    "a=torch.FloatTensor(3, 10).uniform_(0, 6).long()      "
   ]
  },
  {
   "cell_type": "code",
   "execution_count": 38,
   "metadata": {},
   "outputs": [],
   "source": [
    "model=torch.load('./w2v_withoud_ns_epoch_17',map_location='cpu')['state_dict']"
   ]
  },
  {
   "cell_type": "code",
   "execution_count": 47,
   "metadata": {},
   "outputs": [
    {
     "data": {
      "text/plain": [
       "tensor([[ 0.0443,  0.8994,  0.9289,  ...,  0.8651, -1.0831, -0.3877],\n",
       "        [-0.4391,  0.0556,  0.2107,  ...,  0.4746, -0.8800,  0.2608],\n",
       "        [ 1.2031,  0.5038, -0.2473,  ...,  0.5501,  0.5616,  0.8390],\n",
       "        ...,\n",
       "        [ 0.8200, -0.6459, -2.4103,  ..., -0.3962, -0.2266,  0.7742],\n",
       "        [ 1.6269, -0.1732, -1.7579,  ...,  1.5010,  0.6049,  2.4762],\n",
       "        [ 0.1077, -0.3233, -0.0716,  ..., -1.3985, -0.0217, -0.2502]])"
      ]
     },
     "execution_count": 47,
     "metadata": {},
     "output_type": "execute_result"
    }
   ],
   "source": [
    "model['embedding.weight'].detach()#[a].shape"
   ]
  },
  {
   "cell_type": "code",
   "execution_count": 102,
   "metadata": {},
   "outputs": [],
   "source": [
    "model=w2v_ns.word2vec(200)\n",
    "loss=w2v_ns.negative_sampling(model,200)\n",
    "x=torch.tensor([[2],[3]])\n",
    "y=torch.tensor([3,4])"
   ]
  },
  {
   "cell_type": "code",
   "execution_count": 103,
   "metadata": {},
   "outputs": [
    {
     "name": "stdout",
     "output_type": "stream",
     "text": [
      "torch.Size([2, 128, 10])\n",
      "torch.Size([2, 1, 128])\n",
      "torch.Size([2, 128, 1])\n"
     ]
    },
    {
     "data": {
      "text/plain": [
       "tensor([[[ 0.0129]],\n",
       "\n",
       "        [[-0.0147]]], grad_fn=<AddBackward0>)"
      ]
     },
     "execution_count": 103,
     "metadata": {},
     "output_type": "execute_result"
    }
   ],
   "source": [
    "loss.forward(x,y)"
   ]
  },
  {
   "cell_type": "code",
   "execution_count": null,
   "metadata": {},
   "outputs": [],
   "source": []
  }
 ],
 "metadata": {
  "kernelspec": {
   "display_name": "Python 3",
   "language": "python",
   "name": "python3"
  },
  "language_info": {
   "codemirror_mode": {
    "name": "ipython",
    "version": 3
   },
   "file_extension": ".py",
   "mimetype": "text/x-python",
   "name": "python",
   "nbconvert_exporter": "python",
   "pygments_lexer": "ipython3",
   "version": "3.6.8"
  }
 },
 "nbformat": 4,
 "nbformat_minor": 2
}
