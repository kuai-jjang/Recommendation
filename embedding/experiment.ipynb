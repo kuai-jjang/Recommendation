{
 "cells": [
  {
   "cell_type": "code",
   "execution_count": 6,
   "metadata": {},
   "outputs": [],
   "source": [
    "import numpy as np\n",
    "import imp\n",
    "import w2v_ns\n",
    "imp.reload(w2v_ns)\n",
    "\n",
    "import torch\n",
    "import torch.nn as nn\n",
    "\n",
    "import pickle"
   ]
  },
  {
   "cell_type": "code",
   "execution_count": 266,
   "metadata": {},
   "outputs": [
    {
     "name": "stdout",
     "output_type": "stream",
     "text": [
      "tensor([[-7.0722e-01, -2.2900e-01,  1.1376e+00,  4.8296e-01, -2.5962e+00,\n",
      "         -2.0160e-01,  1.0181e+00, -3.7189e-02, -2.7295e-02,  1.3638e+00],\n",
      "        [ 1.4559e+00, -9.1085e-01,  4.6479e-01,  7.5106e-01,  1.3679e+00,\n",
      "          6.9926e-04,  1.0910e+00,  1.0589e-01, -5.6384e-01, -1.0696e-01],\n",
      "        [-8.6513e-01,  1.8699e-01,  4.0268e-01, -5.5249e-01, -2.9471e-01,\n",
      "         -4.1893e-01, -2.9043e+00,  5.6808e-01,  2.1044e-01, -8.9919e-02]],\n",
      "       requires_grad=True)\n",
      "tensor([1, 1, 1])\n",
      "tensor(2.9464, grad_fn=<NllLossBackward>)\n"
     ]
    }
   ],
   "source": [
    "input = torch.randn(3, 50, requires_grad=True)\n",
    "target = torch.empty(3, dtype=torch.long).random_(5)\n",
    "loss=negative_sampling(target,input,vocab_len=50,n=10)\n",
    "loss.backward()\n",
    "print(loss)"
   ]
  },
  {
   "cell_type": "code",
   "execution_count": 47,
   "metadata": {},
   "outputs": [
    {
     "data": {
      "text/plain": [
       "tensor([[ 0.0443,  0.8994,  0.9289,  ...,  0.8651, -1.0831, -0.3877],\n",
       "        [-0.4391,  0.0556,  0.2107,  ...,  0.4746, -0.8800,  0.2608],\n",
       "        [ 1.2031,  0.5038, -0.2473,  ...,  0.5501,  0.5616,  0.8390],\n",
       "        ...,\n",
       "        [ 0.8200, -0.6459, -2.4103,  ..., -0.3962, -0.2266,  0.7742],\n",
       "        [ 1.6269, -0.1732, -1.7579,  ...,  1.5010,  0.6049,  2.4762],\n",
       "        [ 0.1077, -0.3233, -0.0716,  ..., -1.3985, -0.0217, -0.2502]])"
      ]
     },
     "execution_count": 47,
     "metadata": {},
     "output_type": "execute_result"
    }
   ],
   "source": [
    "model=torch.load('./w2v_withoud_ns_epoch_17',map_location='cpu')['state_dict']\n",
    "model['embedding.weight'].detach()#[a].shape\n",
    "\n",
    "model=w2v_ns.word2vec(200)\n",
    "loss=w2v_ns.negative_sampling(model,200)\n",
    "x=torch.tensor([[2],[3]])\n",
    "y=torch.tensor([3,4])\n",
    "\n",
    "loss.forward(x,y)"
   ]
  },
  {
   "cell_type": "code",
   "execution_count": 4,
   "metadata": {},
   "outputs": [],
   "source": [
    "nwords = torch.FloatTensor(2, 5).uniform_(1, 5).long()   "
   ]
  },
  {
   "cell_type": "code",
   "execution_count": 5,
   "metadata": {},
   "outputs": [
    {
     "data": {
      "text/plain": [
       "tensor([[4, 3, 4, 3, 4],\n",
       "        [4, 1, 2, 1, 2]])"
      ]
     },
     "execution_count": 5,
     "metadata": {},
     "output_type": "execute_result"
    }
   ],
   "source": [
    "nwords"
   ]
  },
  {
   "cell_type": "code",
   "execution_count": 11,
   "metadata": {},
   "outputs": [],
   "source": [
    "with open('./preprocessing//vocab_without_josa_gut_su_freq.pickle','rb') as f:\n",
    "    freq=pickle.load(f)"
   ]
  },
  {
   "cell_type": "code",
   "execution_count": 28,
   "metadata": {},
   "outputs": [],
   "source": [
    "import numpy as np\n",
    "\n",
    "total=sum(freq.values())\n",
    "\n",
    "\n",
    "freq.update((x, y/total) for x, y in freq.items())\n",
    "\n",
    "with open('./preprocessing/multi_freq.pickle','wb') as f:\n",
    "    pickle.dump(freq,f)\n"
   ]
  },
  {
   "cell_type": "code",
   "execution_count": 38,
   "metadata": {},
   "outputs": [
    {
     "data": {
      "text/plain": [
       "tensor([14101,  1958,   105,  1171,  1461,  1666,   932,   128, 14544,    62])"
      ]
     },
     "execution_count": 38,
     "metadata": {},
     "output_type": "execute_result"
    }
   ],
   "source": [
    "torch.multinomial(torch.tensor(list(freq.values())),10)"
   ]
  },
  {
   "cell_type": "code",
   "execution_count": 111,
   "metadata": {},
   "outputs": [
    {
     "ename": "TypeError",
     "evalue": "multinomial(): argument 'num_samples' (position 2) must be int, not list",
     "output_type": "error",
     "traceback": [
      "\u001b[1;31m---------------------------------------------------------------------------\u001b[0m",
      "\u001b[1;31mTypeError\u001b[0m                                 Traceback (most recent call last)",
      "\u001b[1;32m<ipython-input-111-f44e32b9eda5>\u001b[0m in \u001b[0;36m<module>\u001b[1;34m\u001b[0m\n\u001b[0;32m      1\u001b[0m \u001b[0mweights\u001b[0m \u001b[1;33m=\u001b[0m \u001b[0mtorch\u001b[0m\u001b[1;33m.\u001b[0m\u001b[0mtensor\u001b[0m\u001b[1;33m(\u001b[0m\u001b[1;33m[\u001b[0m\u001b[1;36m10\u001b[0m\u001b[1;33m,\u001b[0m \u001b[1;36m10\u001b[0m\u001b[1;33m,\u001b[0m \u001b[1;36m3\u001b[0m\u001b[1;33m,\u001b[0m \u001b[1;36m0\u001b[0m\u001b[1;33m]\u001b[0m\u001b[1;33m,\u001b[0m \u001b[0mdtype\u001b[0m\u001b[1;33m=\u001b[0m\u001b[0mtorch\u001b[0m\u001b[1;33m.\u001b[0m\u001b[0mfloat\u001b[0m\u001b[1;33m)\u001b[0m \u001b[1;31m# create a tensor of weights\u001b[0m\u001b[1;33m\u001b[0m\u001b[1;33m\u001b[0m\u001b[0m\n\u001b[1;32m----> 2\u001b[1;33m \u001b[0mtorch\u001b[0m\u001b[1;33m.\u001b[0m\u001b[0mmultinomial\u001b[0m\u001b[1;33m(\u001b[0m\u001b[0mweights\u001b[0m\u001b[1;33m,\u001b[0m \u001b[1;33m[\u001b[0m\u001b[1;36m2\u001b[0m\u001b[1;33m,\u001b[0m\u001b[1;36m1\u001b[0m\u001b[1;33m]\u001b[0m\u001b[1;33m)\u001b[0m\u001b[1;33m\u001b[0m\u001b[1;33m\u001b[0m\u001b[0m\n\u001b[0m",
      "\u001b[1;31mTypeError\u001b[0m: multinomial(): argument 'num_samples' (position 2) must be int, not list"
     ]
    }
   ],
   "source": [
    "weights = torch.tensor([10, 10, 3, 0], dtype=torch.float) # create a tensor of weights\n",
    "torch.multinomial(weights, [2,1])"
   ]
  },
  {
   "cell_type": "code",
   "execution_count": 112,
   "metadata": {},
   "outputs": [
    {
     "name": "stdout",
     "output_type": "stream",
     "text": [
      "57384\n"
     ]
    }
   ],
   "source": [
    "print(len(freq))"
   ]
  },
  {
   "cell_type": "code",
   "execution_count": null,
   "metadata": {},
   "outputs": [],
   "source": []
  }
 ],
 "metadata": {
  "kernelspec": {
   "display_name": "Python 3",
   "language": "python",
   "name": "python3"
  },
  "language_info": {
   "codemirror_mode": {
    "name": "ipython",
    "version": 3
   },
   "file_extension": ".py",
   "mimetype": "text/x-python",
   "name": "python",
   "nbconvert_exporter": "python",
   "pygments_lexer": "ipython3",
   "version": "3.6.8"
  }
 },
 "nbformat": 4,
 "nbformat_minor": 2
}
