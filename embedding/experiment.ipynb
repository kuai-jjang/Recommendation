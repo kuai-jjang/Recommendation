{
 "cells": [
  {
   "cell_type": "code",
   "execution_count": 263,
   "metadata": {},
   "outputs": [],
   "source": [
    "import numpy as np\n",
    "import imp\n",
    "import w2vec\n",
    "imp.reload(w2vec)\n",
    "from w2vec import negative_sampling\n",
    "import torch\n",
    "import torch.nn as nn"
   ]
  },
  {
   "cell_type": "code",
   "execution_count": 266,
   "metadata": {},
   "outputs": [
    {
     "name": "stdout",
     "output_type": "stream",
     "text": [
      "tensor([[-7.0722e-01, -2.2900e-01,  1.1376e+00,  4.8296e-01, -2.5962e+00,\n",
      "         -2.0160e-01,  1.0181e+00, -3.7189e-02, -2.7295e-02,  1.3638e+00],\n",
      "        [ 1.4559e+00, -9.1085e-01,  4.6479e-01,  7.5106e-01,  1.3679e+00,\n",
      "          6.9926e-04,  1.0910e+00,  1.0589e-01, -5.6384e-01, -1.0696e-01],\n",
      "        [-8.6513e-01,  1.8699e-01,  4.0268e-01, -5.5249e-01, -2.9471e-01,\n",
      "         -4.1893e-01, -2.9043e+00,  5.6808e-01,  2.1044e-01, -8.9919e-02]],\n",
      "       requires_grad=True)\n",
      "tensor([1, 1, 1])\n",
      "tensor(2.9464, grad_fn=<NllLossBackward>)\n"
     ]
    }
   ],
   "source": [
    "input = torch.randn(3, 50, requires_grad=True)\n",
    "target = torch.empty(3, dtype=torch.long).random_(5)\n",
    "loss=negative_sampling(target,input,vocab_len=50,n=10)\n",
    "loss.backward()\n",
    "print(loss)"
   ]
  },
  {
   "cell_type": "code",
   "execution_count": null,
   "metadata": {},
   "outputs": [],
   "source": []
  }
 ],
 "metadata": {
  "kernelspec": {
   "display_name": "Python 3",
   "language": "python",
   "name": "python3"
  },
  "language_info": {
   "codemirror_mode": {
    "name": "ipython",
    "version": 3
   },
   "file_extension": ".py",
   "mimetype": "text/x-python",
   "name": "python",
   "nbconvert_exporter": "python",
   "pygments_lexer": "ipython3",
   "version": "3.6.8"
  }
 },
 "nbformat": 4,
 "nbformat_minor": 2
}
