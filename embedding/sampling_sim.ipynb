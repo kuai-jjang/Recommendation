{
 "cells": [
  {
   "cell_type": "code",
   "execution_count": 82,
   "metadata": {},
   "outputs": [],
   "source": [
    "import torch\n",
    "import pickle\n",
    "import random\n",
    "\n",
    "\n",
    "class close_words:\n",
    "    def __init__(self,model,w2i,n=5):\n",
    "        self.model=model\n",
    "        self.w2i=w2i\n",
    "        self.n=n\n",
    "        self.i2w=dict(zip(w2i.values(),w2i.keys()))\n",
    "        self.embeddings=model['embedding.weight']\n",
    "        \n",
    "        \n",
    "    def input_word(self,word):\n",
    "        self.sample_idx=self.w2i[word]\n",
    "        self.sample_vec=self.embeddings[self.sample_idx]\n",
    "    \n",
    "    def sample_word(self):\n",
    "        \n",
    "        self.sample_idx=random.sample(list(self.w2i.values()),1)[0]\n",
    "        self.sampled_word=self.i2w[self.sample_idx]\n",
    "        self.sample_vec=self.embeddings[self.sample_idx]\n",
    "        print('임의의 단어:',self.sampled_word)\n",
    "    \n",
    "    def l2_dist(self):\n",
    "        \n",
    "        self.trial=torch.mul((self.embeddings-self.sample_vec),(self.embeddings-self.sample_vec))\n",
    "        self.trial[self.sample_idx]=100\n",
    "        self.trial=torch.sum(self.trial,dim=1)\n",
    "        #rec=torch.argmax(-self.trial).item()\n",
    "        idexes=torch.argsort(-self.trial, descending=True)[:self.n]\n",
    "        step=1\n",
    "        for idx in idexes:\n",
    "            if idx==len(w2i)+1: #unk 제거\n",
    "                continue\n",
    "            print(step,'번째 가까운 단어:',self.i2w[idx.item()])\n",
    "            step+=1\n",
    "                \n",
    "    def cos_sim(self):\n",
    "      \n",
    "        self.trial=torch.div(torch.sum(torch.mul(self.embeddings,self.sample_vec),dim=1),torch.sum(torch.mul(self.embeddings,self.embeddings),dim=1))\n",
    "     \n",
    "        self.trial[self.sample_idx]=-100\n",
    "        idexes=torch.argsort(self.trial, descending=True)[:self.n]\n",
    "        step=1\n",
    "        for idx in idexes:\n",
    "            if idx==len(w2i)+1: #unk 제거\n",
    "                continue\n",
    "            print(step,'번째 가까운 단어:',self.i2w[idx.item()])\n",
    "            step+=1\n",
    "        "
   ]
  },
  {
   "cell_type": "code",
   "execution_count": 19,
   "metadata": {},
   "outputs": [
    {
     "name": "stdout",
     "output_type": "stream",
     "text": [
      "임베딩 사이즈: torch.Size([28103, 256])\n",
      "사전 사이즈: 28101\n"
     ]
    }
   ],
   "source": [
    "model=torch.load('./w2v_withoud_ns',map_location='cpu')\n",
    "\n",
    "with open('./preprocessing//without_josa_etc','rb') as f:\n",
    "    w2i=pickle.load(f)\n",
    "    \n",
    "print('임베딩 사이즈:',model['embedding.weight'].shape)  #unk 랑 embedding이 0부터인것을 몰랐음. 0은 버리면 됨\n",
    "print('사전 사이즈:',len(w2i))  "
   ]
  },
  {
   "cell_type": "code",
   "execution_count": 20,
   "metadata": {},
   "outputs": [
    {
     "name": "stdout",
     "output_type": "stream",
     "text": [
      "임의의 단어: ('채우기나', 'Verb')\n",
      "1 번째 가까운 단어: ('나오는것', 'Verb')\n",
      "2 번째 가까운 단어: ('높으므로', 'Adjective')\n",
      "3 번째 가까운 단어: ('처진', 'Verb')\n",
      "4 번째 가까운 단어: ('들어야하고', 'Verb')\n",
      "5 번째 가까운 단어: ('듣는데는', 'Verb')\n",
      "임의의 단어: ('넘는다면', 'Verb')\n",
      "1 번째 가까운 단어: ('친철해', 'Noun')\n",
      "2 번째 가까운 단어: ('커트라인', 'Noun')\n",
      "3 번째 가까운 단어: ('리드', 'Noun')\n",
      "4 번째 가까운 단어: ('거버넌스', 'Noun')\n",
      "5 번째 가까운 단어: ('느끼기', 'Verb')\n"
     ]
    }
   ],
   "source": [
    "showing=close_words(model,w2i)\n",
    "showing.sample_word()\n",
    "showing.l2_dist()\n",
    "showing.sample_word()\n",
    "showing.l2_dist()"
   ]
  },
  {
   "cell_type": "code",
   "execution_count": 21,
   "metadata": {},
   "outputs": [
    {
     "name": "stdout",
     "output_type": "stream",
     "text": [
      "임의의 단어: ('제주시', 'Noun')\n",
      "1 번째 가까운 단어: ('마니마니', 'Adverb')\n",
      "2 번째 가까운 단어: ('전환', 'Noun')\n",
      "3 번째 가까운 단어: ('태어났다면', 'Verb')\n",
      "4 번째 가까운 단어: ('않으셨고', 'Verb')\n",
      "5 번째 가까운 단어: ('싫기', 'Adjective')\n",
      "임의의 단어 ('제주시', 'Noun')\n",
      "1 번째 가까운 단어: ('치러', 'Verb')\n",
      "2 번째 가까운 단어: ('마니마니', 'Adverb')\n",
      "3 번째 가까운 단어: ('리스트', 'Noun')\n",
      "4 번째 가까운 단어: ('홀로', 'Noun')\n",
      "5 번째 가까운 단어: ('설문', 'Noun')\n"
     ]
    }
   ],
   "source": [
    "model=torch.load('./w2v_withoud_ns_epoch_3',map_location='cpu')\n",
    "showing=close_words(model,w2i)\n",
    "showing.sample_word()\n",
    "showing.l2_dist()\n",
    "print('임의의 단어',showing.sampled_word)\n",
    "showing.cos_sim()"
   ]
  },
  {
   "cell_type": "code",
   "execution_count": 22,
   "metadata": {},
   "outputs": [
    {
     "name": "stdout",
     "output_type": "stream",
     "text": [
      "임의의 단어: ('되진', 'Verb')\n",
      "1 번째 가까운 단어: ('깊을', 'Adjective')\n",
      "2 번째 가까운 단어: ('만들었어요', 'Verb')\n",
      "3 번째 가까운 단어: ('많더라구요', 'Adjective')\n",
      "4 번째 가까운 단어: ('그랬던것', 'Adjective')\n",
      "5 번째 가까운 단어: ('않다고', 'Verb')\n",
      "임의의 단어 ('되진', 'Verb')\n",
      "1 번째 가까운 단어: ('만들었어요', 'Verb')\n",
      "2 번째 가까운 단어: ('느리긴', 'Adjective')\n",
      "3 번째 가까운 단어: ('깊을', 'Adjective')\n",
      "4 번째 가까운 단어: ('그랬던것', 'Adjective')\n",
      "5 번째 가까운 단어: ('만족하실', 'Adjective')\n"
     ]
    }
   ],
   "source": [
    "model=torch.load('./w2v_withoud_ns_epoch_10',map_location='cpu')\n",
    "showing=close_words(model,w2i)\n",
    "showing.sample_word()\n",
    "showing.l2_dist()\n",
    "print('임의의 단어',showing.sampled_word)\n",
    "showing.cos_sim()"
   ]
  },
  {
   "cell_type": "code",
   "execution_count": 23,
   "metadata": {},
   "outputs": [
    {
     "name": "stdout",
     "output_type": "stream",
     "text": [
      "임의의 단어: ('예년', 'Noun')\n",
      "1 번째 가까운 단어: ('끝나요', 'Verb')\n",
      "2 번째 가까운 단어: ('알려주시면', 'Verb')\n",
      "3 번째 가까운 단어: ('없거든요', 'Adjective')\n",
      "4 번째 가까운 단어: ('마법', 'Noun')\n",
      "5 번째 가까운 단어: ('심하지만', 'Adjective')\n",
      "임의의 단어 ('예년', 'Noun')\n",
      "1 번째 가까운 단어: ('심하지만', 'Adjective')\n",
      "2 번째 가까운 단어: ('알려주시면', 'Verb')\n",
      "3 번째 가까운 단어: ('바뀌셨는데', 'Verb')\n",
      "4 번째 가까운 단어: ('싶', 'Verb')\n",
      "5 번째 가까운 단어: ('쓰지는', 'Verb')\n"
     ]
    }
   ],
   "source": [
    "model=torch.load('./w2v_withoud_ns_epoch_17',map_location='cpu')['state_dict']\n",
    "\n",
    "showing=close_words(model,w2i)\n",
    "showing.sample_word()\n",
    "showing.l2_dist()\n",
    "print('임의의 단어',showing.sampled_word)\n",
    "showing.cos_sim()"
   ]
  },
  {
   "cell_type": "code",
   "execution_count": 24,
   "metadata": {},
   "outputs": [
    {
     "name": "stdout",
     "output_type": "stream",
     "text": [
      "임의의 단어: ('한복', 'Noun')\n",
      "1 번째 가까운 단어: ('차치하고', 'Verb')\n",
      "2 번째 가까운 단어: ('그랬음', 'Adjective')\n",
      "3 번째 가까운 단어: ('먹지', 'Verb')\n",
      "4 번째 가까운 단어: ('오가며', 'Verb')\n",
      "5 번째 가까운 단어: ('맞는건', 'Verb')\n",
      "임의의 단어 ('한복', 'Noun')\n",
      "1 번째 가까운 단어: ('오가며', 'Verb')\n",
      "2 번째 가까운 단어: ('뛰어나신', 'Adjective')\n",
      "3 번째 가까운 단어: ('차치하고', 'Verb')\n",
      "4 번째 가까운 단어: ('편이였습니다', 'Verb')\n",
      "5 번째 가까운 단어: ('그랬음', 'Adjective')\n"
     ]
    }
   ],
   "source": [
    "model=torch.load('./w2v_withoud_ns_epoch_3_lr_0.0001',map_location='cpu')['state_dict']\n",
    "showing=close_words(model,w2i)\n",
    "showing.sample_word()\n",
    "showing.l2_dist()\n",
    "print('임의의 단어',showing.sampled_word)\n",
    "showing.cos_sim()"
   ]
  },
  {
   "cell_type": "code",
   "execution_count": 84,
   "metadata": {},
   "outputs": [
    {
     "name": "stdout",
     "output_type": "stream",
     "text": [
      "임의의 단어: ('강생이', 'Noun')\n",
      "1 번째 가까운 단어: ('것', 'Noun')\n",
      "2 번째 가까운 단어: ('시험', 'Noun')\n",
      "3 번째 가까운 단어: ('교수', 'Noun')\n",
      "4 번째 가까운 단어: ('수업', 'Noun')\n",
      "임의의 단어 ('강생이', 'Noun')\n",
      "1 번째 가까운 단어: ('것', 'Noun')\n",
      "2 번째 가까운 단어: ('시험', 'Noun')\n",
      "3 번째 가까운 단어: ('교수', 'Noun')\n",
      "4 번째 가까운 단어: ('수업', 'Noun')\n"
     ]
    }
   ],
   "source": [
    "model=torch.load('./w2v_with_ns_epoch_0',map_location='cpu')['state_dict']\n",
    "showing=close_words(model,w2i)\n",
    "showing.sample_word()\n",
    "showing.l2_dist()\n",
    "print('임의의 단어',showing.sampled_word)\n",
    "showing.cos_sim()"
   ]
  },
  {
   "cell_type": "code",
   "execution_count": 86,
   "metadata": {},
   "outputs": [
    {
     "name": "stdout",
     "output_type": "stream",
     "text": [
      "1 번째 가까운 단어: ('수업', 'Noun')\n",
      "2 번째 가까운 단어: ('것', 'Noun')\n",
      "3 번째 가까운 단어: ('시험', 'Noun')\n",
      "4 번째 가까운 단어: ('잘', 'Verb')\n",
      "1 번째 가까운 단어: ('수업', 'Noun')\n",
      "2 번째 가까운 단어: ('것', 'Noun')\n",
      "3 번째 가까운 단어: ('시험', 'Noun')\n",
      "4 번째 가까운 단어: ('잘', 'Verb')\n"
     ]
    }
   ],
   "source": [
    "showing.input_word(('교수','Noun'))\n",
    "showing.l2_dist()\n",
    "showing.cos_sim()"
   ]
  },
  {
   "cell_type": "code",
   "execution_count": 88,
   "metadata": {},
   "outputs": [
    {
     "data": {
      "text/plain": [
       "True"
      ]
     },
     "execution_count": 88,
     "metadata": {},
     "output_type": "execute_result"
    }
   ],
   "source": [
    "('잘', 'Verb') in [('시험', 'Noun'),('시험', 'Noun'),('잘', 'Verb')]"
   ]
  },
  {
   "cell_type": "code",
   "execution_count": null,
   "metadata": {},
   "outputs": [],
   "source": []
  }
 ],
 "metadata": {
  "kernelspec": {
   "display_name": "Python 3",
   "language": "python",
   "name": "python3"
  },
  "language_info": {
   "codemirror_mode": {
    "name": "ipython",
    "version": 3
   },
   "file_extension": ".py",
   "mimetype": "text/x-python",
   "name": "python",
   "nbconvert_exporter": "python",
   "pygments_lexer": "ipython3",
   "version": "3.6.8"
  }
 },
 "nbformat": 4,
 "nbformat_minor": 2
}
