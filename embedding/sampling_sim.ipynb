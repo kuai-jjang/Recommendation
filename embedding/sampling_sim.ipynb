{
 "cells": [
  {
   "cell_type": "code",
   "execution_count": 56,
   "metadata": {},
   "outputs": [],
   "source": [
    "import torch\n",
    "import pickle\n",
    "import random\n",
    "\n",
    "from sklearn.decomposition import PCA\n",
    "\n",
    "\n",
    "\n",
    "class close_words:\n",
    "    def __init__(self,model,w2i,pca=False,n=5):\n",
    "        self.model=model\n",
    "        self.w2i=w2i\n",
    "        self.n=n\n",
    "        self.i2w=dict(zip(w2i.values(),w2i.keys()))\n",
    "        pca = PCA(n_components=2)\n",
    "        self.embeddings=model['embedding.weight'] if not pca else torch.tensor(pca.fit_transform(model['embedding.weight']))\n",
    "        \n",
    "        \n",
    "    def input_word(self,word):\n",
    "        self.sample_idx=self.w2i[word]\n",
    "        self.sample_vec=self.embeddings[self.sample_idx]\n",
    "    \n",
    "    def sample_word(self):\n",
    "        \n",
    "        self.sample_idx=random.sample(list(self.w2i.values()),1)[0]\n",
    "        self.sampled_word=self.i2w[self.sample_idx]\n",
    "        self.sample_vec=self.embeddings[self.sample_idx]\n",
    "        print('임의의 단어:',self.sampled_word)\n",
    "    \n",
    "    def l2_dist(self):\n",
    "        \n",
    "        self.trial=torch.mul((self.embeddings-self.sample_vec),(self.embeddings-self.sample_vec))\n",
    "        self.trial[self.sample_idx]=100\n",
    "        self.trial=torch.sum(self.trial,dim=1)\n",
    "        #rec=torch.argmax(-self.trial).item()\n",
    "        idexes=torch.argsort(-self.trial, descending=True)[:self.n]\n",
    "        step=1\n",
    "        print(len(self.i2w))\n",
    "        for idx in idexes:\n",
    "            if idx==len(w2i): #unk 제거\n",
    "                continue\n",
    "            print(step,'번째 가까운 단어:',self.i2w[idx.item()])\n",
    "            step+=1\n",
    "                \n",
    "    def cos_sim(self):\n",
    "      \n",
    "        self.trial=torch.div(torch.sum(torch.mul(self.embeddings,self.sample_vec),dim=1),torch.sum(torch.mul(self.embeddings,self.embeddings),dim=1))\n",
    "     \n",
    "        self.trial[self.sample_idx]=-100\n",
    "        idexes=torch.argsort(self.trial, descending=True)[:self.n]\n",
    "        step=1\n",
    "        for idx in idexes:\n",
    "            if idx==len(w2i)+1: #unk 제거\n",
    "                continue\n",
    "            print(step,'번째 가까운 단어:',self.i2w[idx.item()])\n",
    "            step+=1\n",
    "        "
   ]
  },
  {
   "cell_type": "code",
   "execution_count": 57,
   "metadata": {},
   "outputs": [
    {
     "name": "stdout",
     "output_type": "stream",
     "text": [
      "임베딩 사이즈: torch.Size([28099, 256])\n",
      "사전 사이즈: 28098\n"
     ]
    }
   ],
   "source": [
    "#model=torch.load('./w2v_withoud_ns',map_location='cpu')\n",
    "model=torch.load('./withous_gut_su_haha_epoch_1',map_location='cpu')['state_dict']\n",
    "\n",
    "with open('./preprocessing//vocab_without_josa_gut_su.pickle','rb') as f:\n",
    "    w2i=pickle.load(f)\n",
    "    \n",
    "print('임베딩 사이즈:',model['embedding.weight'].shape)  #unk 랑 embedding이 0부터인것을 몰랐음. 0은 버리면 됨\n",
    "print('사전 사이즈:',len(w2i))  "
   ]
  },
  {
   "cell_type": "code",
   "execution_count": 59,
   "metadata": {},
   "outputs": [
    {
     "name": "stdout",
     "output_type": "stream",
     "text": [
      "임의의 단어: ('너무도', 'Adverb')\n",
      "28098\n",
      "1 번째 가까운 단어: ('핸섬', 'Noun')\n",
      "2 번째 가까운 단어: ('깐깐하거나', 'Adjective')\n",
      "3 번째 가까운 단어: ('뚫어놓으셔서', 'Verb')\n",
      "4 번째 가까운 단어: ('그런거', 'Adjective')\n",
      "5 번째 가까운 단어: ('화나는', 'Verb')\n",
      "임의의 단어 ('너무도', 'Adverb')\n",
      "1 번째 가까운 단어: ('어려우며', 'Verb')\n",
      "2 번째 가까운 단어: ('배우며', 'Verb')\n",
      "3 번째 가까운 단어: ('기자', 'Noun')\n",
      "4 번째 가까운 단어: ('거북할', 'Adjective')\n",
      "5 번째 가까운 단어: ('미디어', 'Noun')\n"
     ]
    }
   ],
   "source": [
    "showing=close_words(model,w2i,pca=True)\n",
    "showing.sample_word()\n",
    "showing.l2_dist()\n",
    "print('임의의 단어',showing.sampled_word)\n",
    "showing.cos_sim()"
   ]
  },
  {
   "cell_type": "code",
   "execution_count": 8,
   "metadata": {},
   "outputs": [
    {
     "ename": "FileNotFoundError",
     "evalue": "[Errno 2] No such file or directory: './w2v_withoud_ns_epoch_3'",
     "output_type": "error",
     "traceback": [
      "\u001b[1;31m---------------------------------------------------------------------------\u001b[0m",
      "\u001b[1;31mFileNotFoundError\u001b[0m                         Traceback (most recent call last)",
      "\u001b[1;32m<ipython-input-8-51217f2993f3>\u001b[0m in \u001b[0;36m<module>\u001b[1;34m\u001b[0m\n\u001b[1;32m----> 1\u001b[1;33m \u001b[0mmodel\u001b[0m\u001b[1;33m=\u001b[0m\u001b[0mtorch\u001b[0m\u001b[1;33m.\u001b[0m\u001b[0mload\u001b[0m\u001b[1;33m(\u001b[0m\u001b[1;34m'./w2v_withoud_ns_epoch_3'\u001b[0m\u001b[1;33m,\u001b[0m\u001b[0mmap_location\u001b[0m\u001b[1;33m=\u001b[0m\u001b[1;34m'cpu'\u001b[0m\u001b[1;33m)\u001b[0m\u001b[1;33m\u001b[0m\u001b[1;33m\u001b[0m\u001b[0m\n\u001b[0m\u001b[0;32m      2\u001b[0m \u001b[0mshowing\u001b[0m\u001b[1;33m=\u001b[0m\u001b[0mclose_words\u001b[0m\u001b[1;33m(\u001b[0m\u001b[0mmodel\u001b[0m\u001b[1;33m,\u001b[0m\u001b[0mw2i\u001b[0m\u001b[1;33m)\u001b[0m\u001b[1;33m\u001b[0m\u001b[1;33m\u001b[0m\u001b[0m\n\u001b[0;32m      3\u001b[0m \u001b[0mshowing\u001b[0m\u001b[1;33m.\u001b[0m\u001b[0msample_word\u001b[0m\u001b[1;33m(\u001b[0m\u001b[1;33m)\u001b[0m\u001b[1;33m\u001b[0m\u001b[1;33m\u001b[0m\u001b[0m\n\u001b[0;32m      4\u001b[0m \u001b[0mshowing\u001b[0m\u001b[1;33m.\u001b[0m\u001b[0ml2_dist\u001b[0m\u001b[1;33m(\u001b[0m\u001b[1;33m)\u001b[0m\u001b[1;33m\u001b[0m\u001b[1;33m\u001b[0m\u001b[0m\n\u001b[0;32m      5\u001b[0m \u001b[0mprint\u001b[0m\u001b[1;33m(\u001b[0m\u001b[1;34m'임의의 단어'\u001b[0m\u001b[1;33m,\u001b[0m\u001b[0mshowing\u001b[0m\u001b[1;33m.\u001b[0m\u001b[0msampled_word\u001b[0m\u001b[1;33m)\u001b[0m\u001b[1;33m\u001b[0m\u001b[1;33m\u001b[0m\u001b[0m\n",
      "\u001b[1;32m~\\.conda\\envs\\python3.6\\lib\\site-packages\\torch\\serialization.py\u001b[0m in \u001b[0;36mload\u001b[1;34m(f, map_location, pickle_module, **pickle_load_args)\u001b[0m\n\u001b[0;32m    380\u001b[0m             \u001b[1;33m(\u001b[0m\u001b[0msys\u001b[0m\u001b[1;33m.\u001b[0m\u001b[0mversion_info\u001b[0m\u001b[1;33m[\u001b[0m\u001b[1;36m0\u001b[0m\u001b[1;33m]\u001b[0m \u001b[1;33m==\u001b[0m \u001b[1;36m2\u001b[0m \u001b[1;32mand\u001b[0m \u001b[0misinstance\u001b[0m\u001b[1;33m(\u001b[0m\u001b[0mf\u001b[0m\u001b[1;33m,\u001b[0m \u001b[0municode\u001b[0m\u001b[1;33m)\u001b[0m\u001b[1;33m)\u001b[0m\u001b[1;33m:\u001b[0m\u001b[1;33m\u001b[0m\u001b[1;33m\u001b[0m\u001b[0m\n\u001b[0;32m    381\u001b[0m         \u001b[0mnew_fd\u001b[0m \u001b[1;33m=\u001b[0m \u001b[1;32mTrue\u001b[0m\u001b[1;33m\u001b[0m\u001b[1;33m\u001b[0m\u001b[0m\n\u001b[1;32m--> 382\u001b[1;33m         \u001b[0mf\u001b[0m \u001b[1;33m=\u001b[0m \u001b[0mopen\u001b[0m\u001b[1;33m(\u001b[0m\u001b[0mf\u001b[0m\u001b[1;33m,\u001b[0m \u001b[1;34m'rb'\u001b[0m\u001b[1;33m)\u001b[0m\u001b[1;33m\u001b[0m\u001b[1;33m\u001b[0m\u001b[0m\n\u001b[0m\u001b[0;32m    383\u001b[0m     \u001b[1;32melif\u001b[0m \u001b[1;33m(\u001b[0m\u001b[0msys\u001b[0m\u001b[1;33m.\u001b[0m\u001b[0mversion_info\u001b[0m\u001b[1;33m[\u001b[0m\u001b[1;36m0\u001b[0m\u001b[1;33m]\u001b[0m \u001b[1;33m==\u001b[0m \u001b[1;36m3\u001b[0m \u001b[1;32mand\u001b[0m \u001b[0misinstance\u001b[0m\u001b[1;33m(\u001b[0m\u001b[0mf\u001b[0m\u001b[1;33m,\u001b[0m \u001b[0mpathlib\u001b[0m\u001b[1;33m.\u001b[0m\u001b[0mPath\u001b[0m\u001b[1;33m)\u001b[0m\u001b[1;33m)\u001b[0m\u001b[1;33m:\u001b[0m\u001b[1;33m\u001b[0m\u001b[1;33m\u001b[0m\u001b[0m\n\u001b[0;32m    384\u001b[0m         \u001b[0mnew_fd\u001b[0m \u001b[1;33m=\u001b[0m \u001b[1;32mTrue\u001b[0m\u001b[1;33m\u001b[0m\u001b[1;33m\u001b[0m\u001b[0m\n",
      "\u001b[1;31mFileNotFoundError\u001b[0m: [Errno 2] No such file or directory: './w2v_withoud_ns_epoch_3'"
     ]
    }
   ],
   "source": [
    "model=torch.load('./w2v_withoud_ns_epoch_3',map_location='cpu')\n",
    "showing=close_words(model,w2i)\n",
    "showing.sample_word()\n",
    "showing.l2_dist()\n",
    "print('임의의 단어',showing.sampled_word)\n",
    "showing.cos_sim()"
   ]
  },
  {
   "cell_type": "code",
   "execution_count": 22,
   "metadata": {},
   "outputs": [
    {
     "name": "stdout",
     "output_type": "stream",
     "text": [
      "임의의 단어: ('되진', 'Verb')\n",
      "1 번째 가까운 단어: ('깊을', 'Adjective')\n",
      "2 번째 가까운 단어: ('만들었어요', 'Verb')\n",
      "3 번째 가까운 단어: ('많더라구요', 'Adjective')\n",
      "4 번째 가까운 단어: ('그랬던것', 'Adjective')\n",
      "5 번째 가까운 단어: ('않다고', 'Verb')\n",
      "임의의 단어 ('되진', 'Verb')\n",
      "1 번째 가까운 단어: ('만들었어요', 'Verb')\n",
      "2 번째 가까운 단어: ('느리긴', 'Adjective')\n",
      "3 번째 가까운 단어: ('깊을', 'Adjective')\n",
      "4 번째 가까운 단어: ('그랬던것', 'Adjective')\n",
      "5 번째 가까운 단어: ('만족하실', 'Adjective')\n"
     ]
    }
   ],
   "source": [
    "model=torch.load('./w2v_withoud_ns_epoch_10',map_location='cpu')\n",
    "showing=close_words(model,w2i)\n",
    "showing.sample_word()\n",
    "showing.l2_dist()\n",
    "print('임의의 단어',showing.sampled_word)\n",
    "showing.cos_sim()"
   ]
  },
  {
   "cell_type": "code",
   "execution_count": 23,
   "metadata": {},
   "outputs": [
    {
     "name": "stdout",
     "output_type": "stream",
     "text": [
      "임의의 단어: ('예년', 'Noun')\n",
      "1 번째 가까운 단어: ('끝나요', 'Verb')\n",
      "2 번째 가까운 단어: ('알려주시면', 'Verb')\n",
      "3 번째 가까운 단어: ('없거든요', 'Adjective')\n",
      "4 번째 가까운 단어: ('마법', 'Noun')\n",
      "5 번째 가까운 단어: ('심하지만', 'Adjective')\n",
      "임의의 단어 ('예년', 'Noun')\n",
      "1 번째 가까운 단어: ('심하지만', 'Adjective')\n",
      "2 번째 가까운 단어: ('알려주시면', 'Verb')\n",
      "3 번째 가까운 단어: ('바뀌셨는데', 'Verb')\n",
      "4 번째 가까운 단어: ('싶', 'Verb')\n",
      "5 번째 가까운 단어: ('쓰지는', 'Verb')\n"
     ]
    }
   ],
   "source": [
    "model=torch.load('./w2v_withoud_ns_epoch_17',map_location='cpu')['state_dict']\n",
    "\n",
    "showing=close_words(model,w2i)\n",
    "showing.sample_word()\n",
    "showing.l2_dist()\n",
    "print('임의의 단어',showing.sampled_word)\n",
    "showing.cos_sim()"
   ]
  },
  {
   "cell_type": "code",
   "execution_count": 15,
   "metadata": {},
   "outputs": [
    {
     "name": "stdout",
     "output_type": "stream",
     "text": [
      "임의의 단어: ('붓는', 'Verb')\n",
      "28098\n",
      "1 번째 가까운 단어: ('나가면서', 'Verb')\n",
      "2 번째 가까운 단어: ('아쉽긴', 'Adjective')\n",
      "3 번째 가까운 단어: ('선다형', 'Noun')\n",
      "4 번째 가까운 단어: ('pKa', 'Alpha')\n",
      "5 번째 가까운 단어: ('분한', 'Noun')\n",
      "임의의 단어 ('붓는', 'Verb')\n",
      "1 번째 가까운 단어: ('각', 'Modifier')\n",
      "2 번째 가까운 단어: ('아쉽긴', 'Adjective')\n",
      "3 번째 가까운 단어: ('분한', 'Noun')\n",
      "4 번째 가까운 단어: ('선다형', 'Noun')\n",
      "5 번째 가까운 단어: ('안가요', 'Verb')\n"
     ]
    }
   ],
   "source": [
    "model=torch.load('./w2v_withoud_ns_epoch_3_lr_0.0001',map_location='cpu')['state_dict']\n",
    "showing=close_words(model,w2i)\n",
    "showing.sample_word()\n",
    "showing.l2_dist()\n",
    "print('임의의 단어',showing.sampled_word)\n",
    "showing.cos_sim()"
   ]
  },
  {
   "cell_type": "code",
   "execution_count": 9,
   "metadata": {},
   "outputs": [
    {
     "name": "stdout",
     "output_type": "stream",
     "text": [
      "임베딩 사이즈: torch.Size([28103, 256])\n",
      "임의의 단어: ('재차', 'Noun')\n",
      "28098\n",
      "1 번째 가까운 단어: ('입니다', 'Adjective')\n",
      "2 번째 가까운 단어: ('한', 'Verb')\n",
      "3 번째 가까운 단어: ('이해', 'Noun')\n",
      "4 번째 가까운 단어: ('그래도', 'Adverb')\n",
      "5 번째 가까운 단어: ('됩니다', 'Verb')\n",
      "임의의 단어 ('재차', 'Noun')\n",
      "1 번째 가까운 단어: ('입니다', 'Adjective')\n",
      "2 번째 가까운 단어: ('한', 'Verb')\n",
      "3 번째 가까운 단어: ('이해', 'Noun')\n",
      "4 번째 가까운 단어: ('그래도', 'Adverb')\n",
      "5 번째 가까운 단어: ('됩니다', 'Verb')\n"
     ]
    }
   ],
   "source": [
    "model=torch.load('./withous_gut_su_epoch_1',map_location='cpu')['state_dict']\n",
    "print('임베딩 사이즈:',model['embedding.weight'].shape) \n",
    "showing=close_words(model,w2i)\n",
    "showing.sample_word()\n",
    "showing.l2_dist()\n",
    "print('임의의 단어',showing.sampled_word)\n",
    "showing.cos_sim()"
   ]
  },
  {
   "cell_type": "code",
   "execution_count": 42,
   "metadata": {},
   "outputs": [
    {
     "name": "stdout",
     "output_type": "stream",
     "text": [
      "28098\n",
      "1 번째 가까운 단어: ('수업', 'Noun')\n",
      "2 번째 가까운 단어: ('갈립니다', 'Verb')\n",
      "3 번째 가까운 단어: ('있어요', 'Adjective')\n",
      "4 번째 가까운 단어: ('세용', 'Noun')\n",
      "5 번째 가까운 단어: ('대혁명', 'Noun')\n",
      "1 번째 가까운 단어: ('붙혀주시진', 'Verb')\n",
      "2 번째 가까운 단어: ('했듯이', 'Verb')\n",
      "3 번째 가까운 단어: ('괴랄', 'Noun')\n",
      "4 번째 가까운 단어: ('곧잘', 'Noun')\n",
      "5 번째 가까운 단어: ('제로로', 'Noun')\n"
     ]
    }
   ],
   "source": [
    "showing.input_word(('교수','Noun'))\n",
    "showing.l2_dist()\n",
    "showing.cos_sim()"
   ]
  },
  {
   "cell_type": "code",
   "execution_count": 88,
   "metadata": {},
   "outputs": [
    {
     "data": {
      "text/plain": [
       "True"
      ]
     },
     "execution_count": 88,
     "metadata": {},
     "output_type": "execute_result"
    }
   ],
   "source": [
    "('잘', 'Verb') in [('시험', 'Noun'),('시험', 'Noun'),('잘', 'Verb')]"
   ]
  },
  {
   "cell_type": "code",
   "execution_count": null,
   "metadata": {},
   "outputs": [],
   "source": []
  }
 ],
 "metadata": {
  "kernelspec": {
   "display_name": "Python 3",
   "language": "python",
   "name": "python3"
  },
  "language_info": {
   "codemirror_mode": {
    "name": "ipython",
    "version": 3
   },
   "file_extension": ".py",
   "mimetype": "text/x-python",
   "name": "python",
   "nbconvert_exporter": "python",
   "pygments_lexer": "ipython3",
   "version": "3.6.8"
  }
 },
 "nbformat": 4,
 "nbformat_minor": 2
}
