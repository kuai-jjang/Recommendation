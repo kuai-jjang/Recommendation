{
 "cells": [
  {
   "cell_type": "code",
   "execution_count": 1,
   "metadata": {},
   "outputs": [],
   "source": [
    "import torch\n",
    "import pickle\n",
    "import random\n",
    "\n",
    "\n",
    "class close_words:\n",
    "    def __init__(self,model,w2i,n=5):\n",
    "        self.model=model\n",
    "        self.w2i=w2i\n",
    "        self.n=n\n",
    "        self.i2w=dict(zip(w2i.values(),w2i.keys()))\n",
    "        self.embeddings=model['embedding.weight']\n",
    "        \n",
    "        \n",
    "    def input_word(self,word):\n",
    "        self.sample_idx=self.w2i[word]\n",
    "        self.sample_vec=self.embeddings[self.sample_idx]\n",
    "    \n",
    "    def sample_word(self):\n",
    "        \n",
    "        self.sample_idx=random.sample(list(self.w2i.values()),1)[0]\n",
    "        self.sampled_word=self.i2w[self.sample_idx]\n",
    "        self.sample_vec=self.embeddings[self.sample_idx]\n",
    "        print('임의의 단어:',self.sampled_word)\n",
    "    \n",
    "    def l2_dist(self):\n",
    "        \n",
    "        self.trial=torch.mul((self.embeddings-self.sample_vec),(self.embeddings-self.sample_vec))\n",
    "        self.trial[self.sample_idx]=100\n",
    "        self.trial=torch.sum(self.trial,dim=1)\n",
    "        #rec=torch.argmax(-self.trial).item()\n",
    "        idexes=torch.argsort(-self.trial, descending=True)[:self.n]\n",
    "        step=1\n",
    "        print(len(self.i2w))\n",
    "        for idx in idexes:\n",
    "            if idx==len(w2i)+1 or idx==len(w2i)-1: #unk 제거\n",
    "                continue\n",
    "            print(step,'번째 가까운 단어:',self.i2w[idx.item()])\n",
    "            step+=1\n",
    "                \n",
    "    def cos_sim(self):\n",
    "      \n",
    "        self.trial=torch.div(torch.sum(torch.mul(self.embeddings,self.sample_vec),dim=1),torch.sum(torch.mul(self.embeddings,self.embeddings),dim=1))\n",
    "     \n",
    "        self.trial[self.sample_idx]=-100\n",
    "        idexes=torch.argsort(self.trial, descending=True)[:self.n]\n",
    "        step=1\n",
    "        for idx in idexes:\n",
    "            if idx==len(w2i)+1: #unk 제거\n",
    "                continue\n",
    "            print(step,'번째 가까운 단어:',self.i2w[idx.item()])\n",
    "            step+=1\n",
    "        "
   ]
  },
  {
   "cell_type": "code",
   "execution_count": 2,
   "metadata": {},
   "outputs": [
    {
     "name": "stdout",
     "output_type": "stream",
     "text": [
      "임베딩 사이즈: torch.Size([28103, 256])\n",
      "사전 사이즈: 28098\n"
     ]
    }
   ],
   "source": [
    "model=torch.load('./w2v_withoud_ns',map_location='cpu')\n",
    "\n",
    "with open('./preprocessing//vocab_without_josa_gut_su.pickle','rb') as f:\n",
    "    w2i=pickle.load(f)\n",
    "    \n",
    "print('임베딩 사이즈:',model['embedding.weight'].shape)  #unk 랑 embedding이 0부터인것을 몰랐음. 0은 버리면 됨\n",
    "print('사전 사이즈:',len(w2i))  "
   ]
  },
  {
   "cell_type": "code",
   "execution_count": 20,
   "metadata": {},
   "outputs": [
    {
     "name": "stdout",
     "output_type": "stream",
     "text": [
      "임의의 단어: ('채우기나', 'Verb')\n",
      "1 번째 가까운 단어: ('나오는것', 'Verb')\n",
      "2 번째 가까운 단어: ('높으므로', 'Adjective')\n",
      "3 번째 가까운 단어: ('처진', 'Verb')\n",
      "4 번째 가까운 단어: ('들어야하고', 'Verb')\n",
      "5 번째 가까운 단어: ('듣는데는', 'Verb')\n",
      "임의의 단어: ('넘는다면', 'Verb')\n",
      "1 번째 가까운 단어: ('친철해', 'Noun')\n",
      "2 번째 가까운 단어: ('커트라인', 'Noun')\n",
      "3 번째 가까운 단어: ('리드', 'Noun')\n",
      "4 번째 가까운 단어: ('거버넌스', 'Noun')\n",
      "5 번째 가까운 단어: ('느끼기', 'Verb')\n"
     ]
    }
   ],
   "source": [
    "showing=close_words(model,w2i)\n",
    "showing.sample_word()\n",
    "showing.l2_dist()\n",
    "showing.sample_word()\n",
    "showing.l2_dist()"
   ]
  },
  {
   "cell_type": "code",
   "execution_count": 21,
   "metadata": {},
   "outputs": [
    {
     "name": "stdout",
     "output_type": "stream",
     "text": [
      "임의의 단어: ('제주시', 'Noun')\n",
      "1 번째 가까운 단어: ('마니마니', 'Adverb')\n",
      "2 번째 가까운 단어: ('전환', 'Noun')\n",
      "3 번째 가까운 단어: ('태어났다면', 'Verb')\n",
      "4 번째 가까운 단어: ('않으셨고', 'Verb')\n",
      "5 번째 가까운 단어: ('싫기', 'Adjective')\n",
      "임의의 단어 ('제주시', 'Noun')\n",
      "1 번째 가까운 단어: ('치러', 'Verb')\n",
      "2 번째 가까운 단어: ('마니마니', 'Adverb')\n",
      "3 번째 가까운 단어: ('리스트', 'Noun')\n",
      "4 번째 가까운 단어: ('홀로', 'Noun')\n",
      "5 번째 가까운 단어: ('설문', 'Noun')\n"
     ]
    }
   ],
   "source": [
    "model=torch.load('./w2v_withoud_ns_epoch_3',map_location='cpu')\n",
    "showing=close_words(model,w2i)\n",
    "showing.sample_word()\n",
    "showing.l2_dist()\n",
    "print('임의의 단어',showing.sampled_word)\n",
    "showing.cos_sim()"
   ]
  },
  {
   "cell_type": "code",
   "execution_count": 22,
   "metadata": {},
   "outputs": [
    {
     "name": "stdout",
     "output_type": "stream",
     "text": [
      "임의의 단어: ('되진', 'Verb')\n",
      "1 번째 가까운 단어: ('깊을', 'Adjective')\n",
      "2 번째 가까운 단어: ('만들었어요', 'Verb')\n",
      "3 번째 가까운 단어: ('많더라구요', 'Adjective')\n",
      "4 번째 가까운 단어: ('그랬던것', 'Adjective')\n",
      "5 번째 가까운 단어: ('않다고', 'Verb')\n",
      "임의의 단어 ('되진', 'Verb')\n",
      "1 번째 가까운 단어: ('만들었어요', 'Verb')\n",
      "2 번째 가까운 단어: ('느리긴', 'Adjective')\n",
      "3 번째 가까운 단어: ('깊을', 'Adjective')\n",
      "4 번째 가까운 단어: ('그랬던것', 'Adjective')\n",
      "5 번째 가까운 단어: ('만족하실', 'Adjective')\n"
     ]
    }
   ],
   "source": [
    "model=torch.load('./w2v_withoud_ns_epoch_10',map_location='cpu')\n",
    "showing=close_words(model,w2i)\n",
    "showing.sample_word()\n",
    "showing.l2_dist()\n",
    "print('임의의 단어',showing.sampled_word)\n",
    "showing.cos_sim()"
   ]
  },
  {
   "cell_type": "code",
   "execution_count": 23,
   "metadata": {},
   "outputs": [
    {
     "name": "stdout",
     "output_type": "stream",
     "text": [
      "임의의 단어: ('예년', 'Noun')\n",
      "1 번째 가까운 단어: ('끝나요', 'Verb')\n",
      "2 번째 가까운 단어: ('알려주시면', 'Verb')\n",
      "3 번째 가까운 단어: ('없거든요', 'Adjective')\n",
      "4 번째 가까운 단어: ('마법', 'Noun')\n",
      "5 번째 가까운 단어: ('심하지만', 'Adjective')\n",
      "임의의 단어 ('예년', 'Noun')\n",
      "1 번째 가까운 단어: ('심하지만', 'Adjective')\n",
      "2 번째 가까운 단어: ('알려주시면', 'Verb')\n",
      "3 번째 가까운 단어: ('바뀌셨는데', 'Verb')\n",
      "4 번째 가까운 단어: ('싶', 'Verb')\n",
      "5 번째 가까운 단어: ('쓰지는', 'Verb')\n"
     ]
    }
   ],
   "source": [
    "model=torch.load('./w2v_withoud_ns_epoch_17',map_location='cpu')['state_dict']\n",
    "\n",
    "showing=close_words(model,w2i)\n",
    "showing.sample_word()\n",
    "showing.l2_dist()\n",
    "print('임의의 단어',showing.sampled_word)\n",
    "showing.cos_sim()"
   ]
  },
  {
   "cell_type": "code",
   "execution_count": 24,
   "metadata": {},
   "outputs": [
    {
     "name": "stdout",
     "output_type": "stream",
     "text": [
      "임의의 단어: ('한복', 'Noun')\n",
      "1 번째 가까운 단어: ('차치하고', 'Verb')\n",
      "2 번째 가까운 단어: ('그랬음', 'Adjective')\n",
      "3 번째 가까운 단어: ('먹지', 'Verb')\n",
      "4 번째 가까운 단어: ('오가며', 'Verb')\n",
      "5 번째 가까운 단어: ('맞는건', 'Verb')\n",
      "임의의 단어 ('한복', 'Noun')\n",
      "1 번째 가까운 단어: ('오가며', 'Verb')\n",
      "2 번째 가까운 단어: ('뛰어나신', 'Adjective')\n",
      "3 번째 가까운 단어: ('차치하고', 'Verb')\n",
      "4 번째 가까운 단어: ('편이였습니다', 'Verb')\n",
      "5 번째 가까운 단어: ('그랬음', 'Adjective')\n"
     ]
    }
   ],
   "source": [
    "model=torch.load('./w2v_withoud_ns_epoch_3_lr_0.0001',map_location='cpu')['state_dict']\n",
    "showing=close_words(model,w2i)\n",
    "showing.sample_word()\n",
    "showing.l2_dist()\n",
    "print('임의의 단어',showing.sampled_word)\n",
    "showing.cos_sim()"
   ]
  },
  {
   "cell_type": "code",
   "execution_count": 13,
   "metadata": {},
   "outputs": [
    {
     "name": "stdout",
     "output_type": "stream",
     "text": [
      "임베딩 사이즈: torch.Size([28103, 256])\n",
      "임의의 단어: ('긁', 'Verb')\n",
      "28098\n",
      "1 번째 가까운 단어: ('그래도', 'Adverb')\n"
     ]
    },
    {
     "ename": "KeyError",
     "evalue": "28102",
     "output_type": "error",
     "traceback": [
      "\u001b[1;31m---------------------------------------------------------------------------\u001b[0m",
      "\u001b[1;31mKeyError\u001b[0m                                  Traceback (most recent call last)",
      "\u001b[1;32m<ipython-input-13-0b40dd1a1612>\u001b[0m in \u001b[0;36m<module>\u001b[1;34m\u001b[0m\n\u001b[0;32m      3\u001b[0m \u001b[0mshowing\u001b[0m\u001b[1;33m=\u001b[0m\u001b[0mclose_words\u001b[0m\u001b[1;33m(\u001b[0m\u001b[0mmodel\u001b[0m\u001b[1;33m,\u001b[0m\u001b[0mw2i\u001b[0m\u001b[1;33m)\u001b[0m\u001b[1;33m\u001b[0m\u001b[1;33m\u001b[0m\u001b[0m\n\u001b[0;32m      4\u001b[0m \u001b[0mshowing\u001b[0m\u001b[1;33m.\u001b[0m\u001b[0msample_word\u001b[0m\u001b[1;33m(\u001b[0m\u001b[1;33m)\u001b[0m\u001b[1;33m\u001b[0m\u001b[1;33m\u001b[0m\u001b[0m\n\u001b[1;32m----> 5\u001b[1;33m \u001b[0mshowing\u001b[0m\u001b[1;33m.\u001b[0m\u001b[0ml2_dist\u001b[0m\u001b[1;33m(\u001b[0m\u001b[1;33m)\u001b[0m\u001b[1;33m\u001b[0m\u001b[1;33m\u001b[0m\u001b[0m\n\u001b[0m\u001b[0;32m      6\u001b[0m \u001b[0mprint\u001b[0m\u001b[1;33m(\u001b[0m\u001b[1;34m'임의의 단어'\u001b[0m\u001b[1;33m,\u001b[0m\u001b[0mshowing\u001b[0m\u001b[1;33m.\u001b[0m\u001b[0msampled_word\u001b[0m\u001b[1;33m)\u001b[0m\u001b[1;33m\u001b[0m\u001b[1;33m\u001b[0m\u001b[0m\n\u001b[0;32m      7\u001b[0m \u001b[0mshowing\u001b[0m\u001b[1;33m.\u001b[0m\u001b[0mcos_sim\u001b[0m\u001b[1;33m(\u001b[0m\u001b[1;33m)\u001b[0m\u001b[1;33m\u001b[0m\u001b[1;33m\u001b[0m\u001b[0m\n",
      "\u001b[1;32m<ipython-input-11-a6809343c6ac>\u001b[0m in \u001b[0;36ml2_dist\u001b[1;34m(self)\u001b[0m\n\u001b[0;32m     36\u001b[0m             \u001b[1;32mif\u001b[0m \u001b[0midx\u001b[0m\u001b[1;33m==\u001b[0m\u001b[0mlen\u001b[0m\u001b[1;33m(\u001b[0m\u001b[0mw2i\u001b[0m\u001b[1;33m)\u001b[0m\u001b[1;33m+\u001b[0m\u001b[1;36m1\u001b[0m \u001b[1;32mor\u001b[0m \u001b[0midx\u001b[0m\u001b[1;33m==\u001b[0m\u001b[0mlen\u001b[0m\u001b[1;33m(\u001b[0m\u001b[0mw2i\u001b[0m\u001b[1;33m)\u001b[0m\u001b[1;33m-\u001b[0m\u001b[1;36m1\u001b[0m\u001b[1;33m:\u001b[0m \u001b[1;31m#unk 제거\u001b[0m\u001b[1;33m\u001b[0m\u001b[1;33m\u001b[0m\u001b[0m\n\u001b[0;32m     37\u001b[0m                 \u001b[1;32mcontinue\u001b[0m\u001b[1;33m\u001b[0m\u001b[1;33m\u001b[0m\u001b[0m\n\u001b[1;32m---> 38\u001b[1;33m             \u001b[0mprint\u001b[0m\u001b[1;33m(\u001b[0m\u001b[0mstep\u001b[0m\u001b[1;33m,\u001b[0m\u001b[1;34m'번째 가까운 단어:'\u001b[0m\u001b[1;33m,\u001b[0m\u001b[0mself\u001b[0m\u001b[1;33m.\u001b[0m\u001b[0mi2w\u001b[0m\u001b[1;33m[\u001b[0m\u001b[0midx\u001b[0m\u001b[1;33m.\u001b[0m\u001b[0mitem\u001b[0m\u001b[1;33m(\u001b[0m\u001b[1;33m)\u001b[0m\u001b[1;33m]\u001b[0m\u001b[1;33m)\u001b[0m\u001b[1;33m\u001b[0m\u001b[1;33m\u001b[0m\u001b[0m\n\u001b[0m\u001b[0;32m     39\u001b[0m             \u001b[0mstep\u001b[0m\u001b[1;33m+=\u001b[0m\u001b[1;36m1\u001b[0m\u001b[1;33m\u001b[0m\u001b[1;33m\u001b[0m\u001b[0m\n\u001b[0;32m     40\u001b[0m \u001b[1;33m\u001b[0m\u001b[0m\n",
      "\u001b[1;31mKeyError\u001b[0m: 28102"
     ]
    }
   ],
   "source": [
    "model=torch.load('./withous_gut_su_epoch_1',map_location='cpu')['state_dict']\n",
    "print('임베딩 사이즈:',model['embedding.weight'].shape) \n",
    "showing=close_words(model,w2i)\n",
    "showing.sample_word()\n",
    "showing.l2_dist()\n",
    "print('임의의 단어',showing.sampled_word)\n",
    "showing.cos_sim()"
   ]
  },
  {
   "cell_type": "code",
   "execution_count": 20,
   "metadata": {},
   "outputs": [
    {
     "name": "stdout",
     "output_type": "stream",
     "text": [
      "1 번째 가까운 단어: ('안', 'VerbPrefix')\n",
      "2 번째 가까운 단어: ('영문법', 'Noun')\n",
      "3 번째 가까운 단어: ('부름', 'Verb')\n",
      "4 번째 가까운 단어: ('달라진다', 'Verb')\n",
      "5 번째 가까운 단어: ('민가', 'Noun')\n",
      "1 번째 가까운 단어: ('안', 'VerbPrefix')\n",
      "2 번째 가까운 단어: ('민가', 'Noun')\n",
      "3 번째 가까운 단어: ('heart', 'Alpha')\n",
      "4 번째 가까운 단어: ('끼치지는', 'Verb')\n",
      "5 번째 가까운 단어: ('준', 'Noun')\n"
     ]
    }
   ],
   "source": [
    "showing.input_word(('난이도','Noun'))\n",
    "showing.l2_dist()\n",
    "showing.cos_sim()"
   ]
  },
  {
   "cell_type": "code",
   "execution_count": 88,
   "metadata": {},
   "outputs": [
    {
     "data": {
      "text/plain": [
       "True"
      ]
     },
     "execution_count": 88,
     "metadata": {},
     "output_type": "execute_result"
    }
   ],
   "source": [
    "('잘', 'Verb') in [('시험', 'Noun'),('시험', 'Noun'),('잘', 'Verb')]"
   ]
  },
  {
   "cell_type": "code",
   "execution_count": null,
   "metadata": {},
   "outputs": [],
   "source": []
  }
 ],
 "metadata": {
  "kernelspec": {
   "display_name": "Python 3",
   "language": "python",
   "name": "python3"
  },
  "language_info": {
   "codemirror_mode": {
    "name": "ipython",
    "version": 3
   },
   "file_extension": ".py",
   "mimetype": "text/x-python",
   "name": "python",
   "nbconvert_exporter": "python",
   "pygments_lexer": "ipython3",
   "version": "3.6.8"
  }
 },
 "nbformat": 4,
 "nbformat_minor": 2
}
