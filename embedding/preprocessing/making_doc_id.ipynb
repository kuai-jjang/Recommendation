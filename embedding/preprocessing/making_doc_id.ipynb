{
 "cells": [
  {
   "cell_type": "code",
   "execution_count": 1,
   "metadata": {},
   "outputs": [
    {
     "name": "stderr",
     "output_type": "stream",
     "text": [
      "C:\\Users\\limaries30\\.conda\\envs\\python3.6\\lib\\site-packages\\gensim\\utils.py:1197: UserWarning: detected Windows; aliasing chunkize to chunkize_serial\n",
      "  warnings.warn(\"detected Windows; aliasing chunkize to chunkize_serial\")\n"
     ]
    }
   ],
   "source": [
    "import pandas as pd\n",
    "import numpy as np\n",
    "from compare_pos_tag import sampling_by_length,preprocessing\n",
    "from konlpy.tag import Okt\n",
    "import ast\n",
    "\n",
    "def make_doc_id(x):  #input : DataFrame[proff_name, class_name]\n",
    "    if x not in doc_id.keys():\n",
    "        doc_id[x]=len(doc_id)\n",
    "\n",
    "my_data=pd.read_csv(r'C:\\tensor_code\\kluebot\\data\\raw\\2017_1.csv')\n",
    "lecture_sentences=preprocessing(my_data.LectureEval.values)\n",
    "tokenizer=Okt()"
   ]
  },
  {
   "cell_type": "code",
   "execution_count": 28,
   "metadata": {},
   "outputs": [],
   "source": [
    "doc_id={}\n",
    "\n",
    "def make_doc_id(x):  #input : DataFrame[proff_name, class_name]\n",
    "    if x not in doc_id.keys():\n",
    "        doc_id[x]=len(doc_id)\n",
    "  \n",
    "for i in zip(my_data[['ProfessorName','className']].values):\n",
    "    x=tuple(i[0])\n",
    "    make_doc_id(x)"
   ]
  },
  {
   "cell_type": "code",
   "execution_count": 30,
   "metadata": {},
   "outputs": [],
   "source": [
    "import pickle"
   ]
  },
  {
   "cell_type": "code",
   "execution_count": 34,
   "metadata": {},
   "outputs": [],
   "source": [
    "with open('./doc_id.pickle','wb') as f:\n",
    "    pickle.dump(doc_id,f)\n",
    "    \n",
    "    "
   ]
  },
  {
   "cell_type": "code",
   "execution_count": null,
   "metadata": {},
   "outputs": [],
   "source": []
  }
 ],
 "metadata": {
  "kernelspec": {
   "display_name": "Python 3",
   "language": "python",
   "name": "python3"
  },
  "language_info": {
   "codemirror_mode": {
    "name": "ipython",
    "version": 3
   },
   "file_extension": ".py",
   "mimetype": "text/x-python",
   "name": "python",
   "nbconvert_exporter": "python",
   "pygments_lexer": "ipython3",
   "version": "3.6.8"
  }
 },
 "nbformat": 4,
 "nbformat_minor": 2
}
