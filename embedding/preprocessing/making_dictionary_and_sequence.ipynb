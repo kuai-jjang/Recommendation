{
 "cells": [
  {
   "cell_type": "code",
   "execution_count": 1,
   "metadata": {},
   "outputs": [
    {
     "name": "stderr",
     "output_type": "stream",
     "text": [
      "C:\\Users\\limaries30\\.conda\\envs\\python3.6\\lib\\site-packages\\gensim\\utils.py:1197: UserWarning: detected Windows; aliasing chunkize to chunkize_serial\n",
      "  warnings.warn(\"detected Windows; aliasing chunkize to chunkize_serial\")\n"
     ]
    }
   ],
   "source": [
    "import pandas as pd\n",
    "import ast\n",
    "import re\n",
    "import time\n",
    "import numpy as np\n",
    "\n",
    "from konlpy.tag import Okt\n",
    "from compare_pos_tag import sampling_by_length,preprocessing\n",
    "\n",
    "my_data=pd.read_csv(r'C:\\tensor_code\\kluebot\\data\\raw\\2017_1.csv')\n",
    "lecture_sentences=preprocessing(my_data.LectureEval.values)"
   ]
  },
  {
   "cell_type": "code",
   "execution_count": 13,
   "metadata": {},
   "outputs": [],
   "source": [
    "class making_dict:\n",
    "    def __init__(self,tokenizer,sentences,freq,n=2):\n",
    "        self.tokenizer=tokenizer\n",
    "        self.sentences=sentences\n",
    "        self.vocab=my_vocab\n",
    "        self.len_sent=len(sentences)\n",
    "        self.step=0  #진행상황\n",
    "        self.freq={}\n",
    "        self.n=n\n",
    "    def make_vocab(self):\n",
    "        _=list(map(lambda x:self.tokenizing(x),self.sentences))\n",
    "        \n",
    "    def tokenizing(self,x):\n",
    "        self.step+=1\n",
    "        if self.step%1000==0:\n",
    "            print(self.step,'/',self.len_sent)\n",
    "        self.tokens=self.tokenizer.pos(x)\n",
    "        for i in self.tokens:\n",
    "            self.update_dict(i)\n",
    "            \n",
    "    def update_dict(self,token):\n",
    "        if token not in self.vocab:\n",
    "            self.check_freq(token)\n",
    "            \n",
    "    def check_freq(self,token):\n",
    "        if token not in freq:\n",
    "            freq[token]=1\n",
    "        else:\n",
    "            self.istwo(token)\n",
    "    def istwo(self,token):\n",
    "        if freq[token]<=self.n-1:\n",
    "            freq[token]+=1\n",
    "        if freq[token]==self.n:\n",
    "            self.vocab[token]=len(self.vocab)+1\n",
    "            del  freq[token]"
   ]
  },
  {
   "cell_type": "code",
   "execution_count": 3,
   "metadata": {},
   "outputs": [
    {
     "name": "stderr",
     "output_type": "stream",
     "text": [
      "C:\\Users\\limaries30\\.conda\\envs\\python3.6\\lib\\site-packages\\jpype\\_core.py:210: UserWarning: \n",
      "-------------------------------------------------------------------------------\n",
      "Deprecated: convertStrings was not specified when starting the JVM. The default\n",
      "behavior in JPype will be False starting in JPype 0.8. The recommended setting\n",
      "for new code is convertStrings=False.  The legacy value of True was assumed for\n",
      "this session. If you are a user of an application that reported this warning,\n",
      "please file a ticket with the developer.\n",
      "-------------------------------------------------------------------------------\n",
      "\n",
      "  \"\"\")\n"
     ]
    }
   ],
   "source": [
    "k=re.compile('[ㄱ-ㅎ]+|')\n",
    "sample_sentence=list(map(lambda x:k.sub('',x),lecture_sentences))\n",
    "\n",
    "my_vocab={}\n",
    "freq={}\n",
    "trial=making_dict(Okt(),sample_sentence,my_vocab)"
   ]
  },
  {
   "cell_type": "code",
   "execution_count": 4,
   "metadata": {},
   "outputs": [],
   "source": [
    "# trial.make_vocab()\n",
    "# import pickle\n",
    "\n",
    "# with open('./my_vocab_freq_2.pickle','wb') as handle:\n",
    "#     pickle.dump(my_vocab,handle)"
   ]
  },
  {
   "cell_type": "code",
   "execution_count": 5,
   "metadata": {
    "scrolled": true
   },
   "outputs": [],
   "source": [
    "import pickle\n",
    "with open('./my_vocab_freq_2.pickle','rb') as handle:\n",
    "    w2i=pickle.load(handle)"
   ]
  },
  {
   "cell_type": "code",
   "execution_count": 38,
   "metadata": {},
   "outputs": [],
   "source": [
    "from collections import defaultdict\n",
    "w2i_default=defaultdict(lambda: len(w2i)+1,w2i)\n",
    "#default dict 값이 unk\n",
    "w2i['unk']=len(w2i)+1"
   ]
  },
  {
   "cell_type": "code",
   "execution_count": 43,
   "metadata": {},
   "outputs": [
    {
     "name": "stdout",
     "output_type": "stream",
     "text": [
      "1000 / 28171\n",
      "2000 / 28171\n",
      "3000 / 28171\n",
      "4000 / 28171\n",
      "5000 / 28171\n",
      "6000 / 28171\n",
      "7000 / 28171\n",
      "8000 / 28171\n",
      "9000 / 28171\n",
      "10000 / 28171\n",
      "11000 / 28171\n",
      "12000 / 28171\n",
      "13000 / 28171\n",
      "14000 / 28171\n",
      "15000 / 28171\n",
      "16000 / 28171\n",
      "17000 / 28171\n",
      "18000 / 28171\n",
      "19000 / 28171\n",
      "20000 / 28171\n",
      "21000 / 28171\n",
      "22000 / 28171\n",
      "23000 / 28171\n",
      "24000 / 28171\n",
      "25000 / 28171\n",
      "26000 / 28171\n",
      "27000 / 28171\n",
      "28000 / 28171\n"
     ]
    }
   ],
   "source": [
    "# make_seq=making_seq(Okt())\n",
    "tokenizer=Okt()\n",
    "step=0\n",
    "length_sent=len(sample_sentence)\n",
    "for i in sample_sentence:\n",
    "    step+=1\n",
    "    if step%1000==0:\n",
    "        print(step,'/',length_sent)\n",
    "    tokenized=tokenizer.pos(i)\n",
    "    seq=list(map(lambda x:a[x],tokenized))\n",
    "    with open('./sentence2idx.txt', 'a') as f:\n",
    "        for item in seq:\n",
    "            f.write(\"%s \" % item)\n",
    "        f.write('\\n')"
   ]
  },
  {
   "cell_type": "code",
   "execution_count": 1,
   "metadata": {},
   "outputs": [],
   "source": [
    "with open('./sentence2idx.txt', 'r') as f:\n",
    "    lines = f.readlines()\n",
    "    for line in lines:\n",
    "        a=line\n",
    "        break"
   ]
  },
  {
   "cell_type": "code",
   "execution_count": 7,
   "metadata": {},
   "outputs": [
    {
     "data": {
      "text/plain": [
       "[1,\n",
       " 56,\n",
       " 670,\n",
       " 2,\n",
       " 1077,\n",
       " 779,\n",
       " 24,\n",
       " 1,\n",
       " 43,\n",
       " 236,\n",
       " 7,\n",
       " 1640,\n",
       " 3,\n",
       " 15,\n",
       " 16,\n",
       " 2,\n",
       " 55,\n",
       " 3008,\n",
       " 20,\n",
       " 21,\n",
       " 53,\n",
       " 4,\n",
       " 267,\n",
       " 3516,\n",
       " 3,\n",
       " 5,\n",
       " 32,\n",
       " 33,\n",
       " 4,\n",
       " 10,\n",
       " 5,\n",
       " 37,\n",
       " 75,\n",
       " 8,\n",
       " 26255,\n",
       " 9,\n",
       " 3,\n",
       " 400,\n",
       " 150,\n",
       " 1121,\n",
       " 114,\n",
       " 54,\n",
       " 88,\n",
       " 5,\n",
       " 271,\n",
       " 2536,\n",
       " 6,\n",
       " 242,\n",
       " 6830,\n",
       " 442,\n",
       " 1566,\n",
       " 6,\n",
       " 11,\n",
       " 277,\n",
       " 7,\n",
       " 8,\n",
       " 58,\n",
       " 310,\n",
       " 9,\n",
       " 3,\n",
       " 83,\n",
       " 1288,\n",
       " 62,\n",
       " 12,\n",
       " 13,\n",
       " 10,\n",
       " 11680,\n",
       " 84,\n",
       " 85,\n",
       " 19,\n",
       " 77,\n",
       " 11,\n",
       " 4333,\n",
       " 104,\n",
       " 49,\n",
       " 17,\n",
       " 873,\n",
       " 63,\n",
       " 1020,\n",
       " 1355,\n",
       " 106]"
      ]
     },
     "execution_count": 7,
     "metadata": {},
     "output_type": "execute_result"
    }
   ],
   "source": [
    "list(map(lambda x:int(x),a.replace(' \\n','').split(' ')))"
   ]
  },
  {
   "cell_type": "markdown",
   "metadata": {},
   "source": [
    "## todo \n",
    "1. setnece sequence 만들기\n",
    "2. default dict로 변환"
   ]
  },
  {
   "cell_type": "code",
   "execution_count": null,
   "metadata": {},
   "outputs": [],
   "source": []
  }
 ],
 "metadata": {
  "kernelspec": {
   "display_name": "Python 3",
   "language": "python",
   "name": "python3"
  },
  "language_info": {
   "codemirror_mode": {
    "name": "ipython",
    "version": 3
   },
   "file_extension": ".py",
   "mimetype": "text/x-python",
   "name": "python",
   "nbconvert_exporter": "python",
   "pygments_lexer": "ipython3",
   "version": "3.6.8"
  }
 },
 "nbformat": 4,
 "nbformat_minor": 2
}
