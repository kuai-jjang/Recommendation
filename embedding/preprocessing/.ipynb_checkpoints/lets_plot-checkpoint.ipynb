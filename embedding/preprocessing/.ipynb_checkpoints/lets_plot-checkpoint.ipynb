{
 "cells": [
  {
   "cell_type": "code",
   "execution_count": 49,
   "metadata": {},
   "outputs": [],
   "source": [
    "import pickle\n",
    "import numpy as np\n",
    "import matplotlib.pyplot as plt \n",
    "import seaborn as sns\n",
    "from matplotlib import font_manager,rc\n",
    "\n",
    "def nplot(freq,n=10):\n",
    "    freq_sort=sorted(freq.items(),key=lambda x:x[1],reverse=True)\n",
    "    x, y = zip(*freq_sort) # unpack a list of pairs into two tuples\n",
    "    z,_=zip(*x)\n",
    "    sns.barplot(list(z[:n]),list(y[:n]))\n",
    "    plt.title('전처리 후')\n",
    "    plt.figure(figsize=(10,10))\n",
    "\n",
    "\n",
    "\n",
    "\n",
    "font_path = \"C:/Windows/Fonts/HMFMPYUN.TTF\"\n",
    "font_name = font_manager.FontProperties(fname=font_path).get_name()\n",
    "matplotlib.rc('font',family=font_name)\n",
    "\n",
    "\n",
    "\n",
    "with open('./my_vocab_frequency','rb') as f:\n",
    "    freq=pickle.load(f)\n",
    "with open('my_vocab_freq_3.pickle','rb') as f:\n",
    "    w2i=pickle.load(f)\n",
    "\n",
    "    \n",
    "    "
   ]
  },
  {
   "cell_type": "code",
   "execution_count": 50,
   "metadata": {},
   "outputs": [
    {
     "data": {
      "image/png": "[encoded data removed]",
      "text/plain": [
       "<Figure size 432x288 with 1 Axes>"
      ]
     },
     "metadata": {
      "needs_background": "light"
     },
     "output_type": "display_data"
    },
    {
     "data": {
      "text/plain": [
       "<Figure size 720x720 with 0 Axes>"
      ]
     },
     "metadata": {},
     "output_type": "display_data"
    }
   ],
   "source": [
    "nplot(freq)"
   ]
  },
  {
   "cell_type": "code",
   "execution_count": 51,
   "metadata": {},
   "outputs": [
    {
     "data": {
      "text/plain": [
       "[(('수업', 'Noun'), 35586),\n",
       " (('교수', 'Noun'), 26319),\n",
       " (('것', 'Noun'), 19765),\n",
       " (('시험', 'Noun'), 19187),\n",
       " (('잘', 'Verb'), 14778),\n",
       " (('강의', 'Noun'), 13692),\n",
       " (('과제', 'Noun'), 12087),\n",
       " (('수', 'Noun'), 12028),\n",
       " (('학점', 'Noun'), 10968),\n",
       " (('내용', 'Noun'), 10799)]"
      ]
     },
     "execution_count": 51,
     "metadata": {},
     "output_type": "execute_result"
    }
   ],
   "source": [
    "freq_sort=sorted(freq.items(),key=lambda x:x[1],reverse=True)\n",
    "freq_sort[:10]"
   ]
  },
  {
   "cell_type": "code",
   "execution_count": null,
   "metadata": {},
   "outputs": [],
   "source": []
  }
 ],
 "metadata": {
  "kernelspec": {
   "display_name": "Python 3",
   "language": "python",
   "name": "python3"
  },
  "language_info": {
   "codemirror_mode": {
    "name": "ipython",
    "version": 3
   },
   "file_extension": ".py",
   "mimetype": "text/x-python",
   "name": "python",
   "nbconvert_exporter": "python",
   "pygments_lexer": "ipython3",
   "version": "3.6.8"
  }
 },
 "nbformat": 4,
 "nbformat_minor": 2
}
