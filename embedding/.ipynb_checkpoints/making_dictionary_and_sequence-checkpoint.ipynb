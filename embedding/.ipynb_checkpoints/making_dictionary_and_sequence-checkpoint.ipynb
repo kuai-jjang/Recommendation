{
 "cells": [
  {
   "cell_type": "code",
   "execution_count": 6,
   "metadata": {},
   "outputs": [
    {
     "name": "stderr",
     "output_type": "stream",
     "text": [
      "C:\\Users\\limaries30\\.conda\\envs\\python3.6\\lib\\site-packages\\gensim\\utils.py:1197: UserWarning: detected Windows; aliasing chunkize to chunkize_serial\n",
      "  warnings.warn(\"detected Windows; aliasing chunkize to chunkize_serial\")\n"
     ]
    }
   ],
   "source": [
    "import pandas as pd\n",
    "import ast\n",
    "import re\n",
    "import time\n",
    "import numpy as np\n",
    "\n",
    "from konlpy.tag import Okt\n",
    "from compare_pos_tag import sampling_by_length,preprocessing\n",
    "\n",
    "my_data=pd.read_csv(r'C:\\tensor_code\\kluebot\\data\\raw\\2017_1.csv')\n",
    "lecture_sentences=preprocessing(my_data.LectureEval.values)"
   ]
  },
  {
   "cell_type": "code",
   "execution_count": 18,
   "metadata": {},
   "outputs": [],
   "source": [
    "class making_dict:\n",
    "    def __init__(self,tokenizer,sentences,freq,n=2):\n",
    "        self.tokenizer=tokenizer\n",
    "        self.sentences=sentences\n",
    "        self.vocab=my_vocab\n",
    "        self.len_sent=len(sentences)\n",
    "        self.step=0  #진행상황\n",
    "        self.freq={}\n",
    "        self.n=n\n",
    "    def make_vocab(self):\n",
    "        _=list(map(lambda x:self.tokenizing(x),self.sentences))\n",
    "        \n",
    "    def tokenizing(self,x):\n",
    "        self.step+=1\n",
    "        if self.step%1000==0:\n",
    "            print(self.step,'/',self.len_sent)\n",
    "        self.tokens=self.tokenizer.pos(x)\n",
    "        for i in self.tokens:\n",
    "            self.update_dict(i)\n",
    "            \n",
    "    def update_dict(self,token):\n",
    "        if token not in self.vocab:\n",
    "            self.check_freq(token)\n",
    "            \n",
    "    def check_freq(self,token):\n",
    "        if token not in freq:\n",
    "            freq[token]=1\n",
    "        else:\n",
    "            self.istwo(token)\n",
    "    def istwo(self,token):\n",
    "        if freq[token]<=self.n-1:\n",
    "            freq[token]+=1\n",
    "        if freq[token]==self.n:\n",
    "            self.vocab[token]=len(self.vocab)+1\n",
    "            del  freq[token]"
   ]
  },
  {
   "cell_type": "code",
   "execution_count": 19,
   "metadata": {},
   "outputs": [],
   "source": [
    "k=re.compile('[ㄱ-ㅎ]+|')\n",
    "sample_sentence=list(map(lambda x:k.sub('',x),lecture_sentences))\n",
    "\n",
    "my_vocab={}\n",
    "freq={}\n",
    "trial=making_dict(Okt(),sample_sentence,my_vocab)"
   ]
  },
  {
   "cell_type": "code",
   "execution_count": 20,
   "metadata": {},
   "outputs": [
    {
     "name": "stdout",
     "output_type": "stream",
     "text": [
      "1000 / 28171\n",
      "2000 / 28171\n",
      "3000 / 28171\n",
      "4000 / 28171\n",
      "5000 / 28171\n",
      "6000 / 28171\n",
      "7000 / 28171\n",
      "8000 / 28171\n",
      "9000 / 28171\n",
      "10000 / 28171\n",
      "11000 / 28171\n",
      "12000 / 28171\n",
      "13000 / 28171\n",
      "14000 / 28171\n",
      "15000 / 28171\n",
      "16000 / 28171\n",
      "17000 / 28171\n",
      "18000 / 28171\n",
      "19000 / 28171\n",
      "20000 / 28171\n",
      "21000 / 28171\n",
      "22000 / 28171\n",
      "23000 / 28171\n",
      "24000 / 28171\n",
      "25000 / 28171\n",
      "26000 / 28171\n",
      "27000 / 28171\n",
      "28000 / 28171\n"
     ]
    }
   ],
   "source": [
    "trial.make_vocab()"
   ]
  },
  {
   "cell_type": "code",
   "execution_count": 23,
   "metadata": {},
   "outputs": [],
   "source": [
    "import pickle\n",
    "\n",
    "with open('./my_vocab_freq_2.pickle','wb') as handle:\n",
    "    pickle.dump(my_vocab,handle)"
   ]
  },
  {
   "cell_type": "code",
   "execution_count": 28,
   "metadata": {
    "scrolled": true
   },
   "outputs": [
    {
     "name": "stdout",
     "output_type": "stream",
     "text": [
      "28730\n"
     ]
    }
   ],
   "source": [
    "with open('./my_vocab_freq_2.pickle','rb') as handle:\n",
    "    b=pickle.load(handle)\n",
    "    print(len(b))"
   ]
  },
  {
   "cell_type": "markdown",
   "metadata": {},
   "source": [
    "## todo \n",
    "1. setnece sequence 만들기\n",
    "2. default dict로 변환"
   ]
  },
  {
   "cell_type": "code",
   "execution_count": null,
   "metadata": {},
   "outputs": [],
   "source": []
  }
 ],
 "metadata": {
  "kernelspec": {
   "display_name": "Python 3",
   "language": "python",
   "name": "python3"
  },
  "language_info": {
   "codemirror_mode": {
    "name": "ipython",
    "version": 3
   },
   "file_extension": ".py",
   "mimetype": "text/x-python",
   "name": "python",
   "nbconvert_exporter": "python",
   "pygments_lexer": "ipython3",
   "version": "3.6.8"
  }
 },
 "nbformat": 4,
 "nbformat_minor": 2
}
