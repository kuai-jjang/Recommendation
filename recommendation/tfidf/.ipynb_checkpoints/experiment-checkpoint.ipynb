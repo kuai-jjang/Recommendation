{
 "cells": [
  {
   "cell_type": "code",
   "execution_count": 6,
   "metadata": {},
   "outputs": [],
   "source": [
    "import pickle\n",
    "import pandas as pd\n",
    "from matplotlib import font_manager,rc\n",
    "import matplotlib.pyplot as plt \n",
    "import seaborn as sns\n",
    "import numpy as np"
   ]
  },
  {
   "cell_type": "code",
   "execution_count": 7,
   "metadata": {},
   "outputs": [],
   "source": [
    "def plotting(plot_data,classname_data):\n",
    "    data = (\n",
    "      pd.DataFrame(plot_data.values, columns=['V1', 'V2'])\n",
    "        .assign(classname = classname_data)\n",
    "    )\n",
    "\n",
    "\n",
    "    font_path = \"C:/Windows/Fonts/HMFMPYUN.TTF\"\n",
    "    font_name = font_manager.FontProperties(fname=font_path).get_name()\n",
    "    rc('font',family=font_name)\n",
    "\n",
    "    plt.figure(figsize=(10,10))\n",
    "    for i,an in enumerate(data.index.values):\n",
    "\n",
    "        x = data['V1'].iloc[i]\n",
    "        y = data['V2'].iloc[i]\n",
    "        plt.scatter(x, y, marker='x', color='blue')\n",
    "        if (i+5)%100==0:\n",
    "            plt.text(x+0.01, y+0.01, data['classname'].iloc[i], fontsize=10,color='green')\n",
    "\n",
    "    plt.show()\n",
    "    \n",
    "    \n",
    "def make_vector(vector,vocab):\n",
    "    hw_dim=vocab['과제']\n",
    "    ex_dim=vocab['시험']\n",
    "    team_dim=vocab['팀플']\n",
    "    hw_exam=vec[vec.columns[2:]].iloc[:,[ex_dim,hw_dim,team_dim]]\n",
    "    hw_exam.columns=['exam','hw','team']\n",
    "    \n",
    "    \n",
    "    return hw_exam\n",
    "\n",
    "\n",
    "def make_idx(hw_exam,team=False):\n",
    "    \n",
    "    hw_exam[['exam_bool','hw_bool','team_1']]=hw_exam>hw_exam.quantile(.25)\n",
    "    hw_exam['hw_dom']=hw_exam['hw']>hw_exam['exam']\n",
    "    total_idx=hw_exam.index.values\n",
    "    hw_idx=hw_exam.index[hw_exam['hw_dom']].values\n",
    "    mid=hw_exam.index[(~hw_exam['hw_bool'])&(~hw_exam['exam_bool'])].values\n",
    "    hw_idx=list(set(hw_idx)-set(mid))\n",
    "    exam_idx=list(set(total_idx)-set(hw_idx)-set(mid))\n",
    "    \n",
    "    hw_exam['team_dom']=hw_exam['team']>hw_exam['team'].quantile(0.5)\n",
    "    team_3_idx=hw_exam.index[hw_exam['team_dom']].values\n",
    "    team_1_idx=hw_exam.index[hw_exam['team_1']].values\n",
    "    team_2_idx=list(set(total_idx)-set(team_3_idx)-set(team_1_idx))\n",
    "    \n",
    "    return exam_idx,mid,hw_idx,[team_1_idx,team_2_idx,team_3_idx]\n",
    "\n",
    "\n",
    "def marking(haha,s1):\n",
    "    for idx,j in enumerate(haha):\n",
    "        for i in j:\n",
    "            s1[j]=idx+1\n",
    "            \n",
    "    return s1\n"
   ]
  },
  {
   "cell_type": "code",
   "execution_count": 8,
   "metadata": {},
   "outputs": [],
   "source": [
    "vec=pd.read_csv('./lecture_vector_okt_2017_1.csv')\n",
    "with open('./voacb_okt_2017_1.pickle','rb') as f:\n",
    "    vocab=pickle.load(f)"
   ]
  },
  {
   "cell_type": "code",
   "execution_count": 9,
   "metadata": {
    "scrolled": true
   },
   "outputs": [],
   "source": [
    "hw_exam=make_vector(vec,vocab)\n",
    "classname_data=vec.iloc[:,0]\n",
    "#plotting(hw_exam,classname_data)"
   ]
  },
  {
   "cell_type": "code",
   "execution_count": 10,
   "metadata": {},
   "outputs": [],
   "source": [
    "exam_idx,mid,hw_idx,team_idx=make_idx(hw_exam)\n",
    "\n",
    "s1=np.array([0 for i in range(vec.shape[0])])\n",
    "exam_marks=marking([exam_idx,mid,hw_idx],s1)\n",
    "hmm=list(zip(vec['0'],exam_marks))\n",
    "\n",
    "s2=np.array([0 for i in range(vec.shape[0])])\n",
    "team_marks=marking(team_idx,s2)\n",
    "tmm=list(zip(vec['0'],team_marks))"
   ]
  },
  {
   "cell_type": "code",
   "execution_count": 11,
   "metadata": {},
   "outputs": [],
   "source": [
    "test=pd.read_csv('../../../../kluebot/Recommendation_System/crawling/star_2017_1.csv')\n",
    "kkk=np.zeros(test.shape[0])\n",
    "ttt=np.zeros(test.shape[0])\n",
    "\n",
    "test['id']=list(zip(test.proff.values,test.className.values))\n",
    "test['id']=test['id'].apply(lambda x:str(x))\n",
    "for i in hmm:\n",
    "    idx=test[test.id == i[0]].index.values\n",
    "    kkk[idx]=i[1]\n",
    "\n",
    "for i in tmm:\n",
    "    idx=test[test.id == i[0]].index.values\n",
    "    ttt[idx]=i[1]\n",
    "        \n",
    "    \n",
    "test['s1']=kkk\n",
    "test['s2']=ttt"
   ]
  },
  {
   "cell_type": "code",
   "execution_count": 13,
   "metadata": {},
   "outputs": [],
   "source": [
    "test=test[['sem','proff','className','s1','s2','achievement','grade','chulseok']]\n",
    "test.rename(columns ={'proff':'ProfessorName'},inplace=True)\n",
    "#학수번호, 교수님 이름 ,rating\n",
    "#강의평"
   ]
  },
  {
   "cell_type": "code",
   "execution_count": 15,
   "metadata": {},
   "outputs": [],
   "source": [
    "test.drop_duplicates(['className','ProfessorName'],inplace=True)"
   ]
  },
  {
   "cell_type": "code",
   "execution_count": 32,
   "metadata": {},
   "outputs": [],
   "source": [
    "raw=pd.read_csv(r'C:\\tensor_code\\kluebot\\data\\raw\\2017_1.csv').drop_duplicates(['className','ProfessorName'])"
   ]
  },
  {
   "cell_type": "code",
   "execution_count": 36,
   "metadata": {},
   "outputs": [],
   "source": [
    "merged=test.merge(raw,on=['ProfessorName','className'],how='left').dropna()"
   ]
  },
  {
   "cell_type": "code",
   "execution_count": 80,
   "metadata": {},
   "outputs": [
    {
     "data": {
      "text/html": [
       "<div>\n",
       "<style scoped>\n",
       "    .dataframe tbody tr th:only-of-type {\n",
       "        vertical-align: middle;\n",
       "    }\n",
       "\n",
       "    .dataframe tbody tr th {\n",
       "        vertical-align: top;\n",
       "    }\n",
       "\n",
       "    .dataframe thead th {\n",
       "        text-align: right;\n",
       "    }\n",
       "</style>\n",
       "<table border=\"1\" class=\"dataframe\">\n",
       "  <thead>\n",
       "    <tr style=\"text-align: right;\">\n",
       "      <th></th>\n",
       "      <th>ProfessorName</th>\n",
       "      <th>className</th>\n",
       "    </tr>\n",
       "  </thead>\n",
       "  <tbody>\n",
       "    <tr>\n",
       "      <th>0</th>\n",
       "      <td>오원옥 교수님</td>\n",
       "      <td>간호학개론</td>\n",
       "    </tr>\n",
       "    <tr>\n",
       "      <th>1</th>\n",
       "      <td>강지원 교수님</td>\n",
       "      <td>간호정보학및실습</td>\n",
       "    </tr>\n",
       "    <tr>\n",
       "      <th>2</th>\n",
       "      <td>추진아 교수님</td>\n",
       "      <td>간호연구방법론</td>\n",
       "    </tr>\n",
       "    <tr>\n",
       "      <th>3</th>\n",
       "      <td>설근희 교수님</td>\n",
       "      <td>기초간호과학II</td>\n",
       "    </tr>\n",
       "    <tr>\n",
       "      <th>4</th>\n",
       "      <td>설근희,강푸름 교수님</td>\n",
       "      <td>기초간호과학III</td>\n",
       "    </tr>\n",
       "  </tbody>\n",
       "</table>\n",
       "</div>"
      ],
      "text/plain": [
       "  ProfessorName  className\n",
       "0       오원옥 교수님      간호학개론\n",
       "1       강지원 교수님   간호정보학및실습\n",
       "2       추진아 교수님    간호연구방법론\n",
       "3       설근희 교수님   기초간호과학II\n",
       "4   설근희,강푸름 교수님  기초간호과학III"
      ]
     },
     "execution_count": 80,
     "metadata": {},
     "output_type": "execute_result"
    }
   ],
   "source": [
    "merged[['ProfessorName','className']].head()"
   ]
  },
  {
   "cell_type": "code",
   "execution_count": 83,
   "metadata": {},
   "outputs": [
    {
     "data": {
      "text/html": [
       "<div>\n",
       "<style scoped>\n",
       "    .dataframe tbody tr th:only-of-type {\n",
       "        vertical-align: middle;\n",
       "    }\n",
       "\n",
       "    .dataframe tbody tr th {\n",
       "        vertical-align: top;\n",
       "    }\n",
       "\n",
       "    .dataframe thead th {\n",
       "        text-align: right;\n",
       "    }\n",
       "</style>\n",
       "<table border=\"1\" class=\"dataframe\">\n",
       "  <thead>\n",
       "    <tr style=\"text-align: right;\">\n",
       "      <th></th>\n",
       "      <th>ProfessorName</th>\n",
       "      <th>className</th>\n",
       "      <th>AcademicNumber</th>\n",
       "      <th>Classification</th>\n",
       "      <th>Credit</th>\n",
       "    </tr>\n",
       "  </thead>\n",
       "  <tbody>\n",
       "    <tr>\n",
       "      <th>0</th>\n",
       "      <td>오원옥 교수님</td>\n",
       "      <td>간호학개론</td>\n",
       "      <td>NRSG217</td>\n",
       "      <td>전공선택</td>\n",
       "      <td>1학점</td>\n",
       "    </tr>\n",
       "    <tr>\n",
       "      <th>1</th>\n",
       "      <td>강지원 교수님</td>\n",
       "      <td>간호정보학및실습</td>\n",
       "      <td>NRSG233</td>\n",
       "      <td>전공선택</td>\n",
       "      <td>2학점</td>\n",
       "    </tr>\n",
       "    <tr>\n",
       "      <th>2</th>\n",
       "      <td>추진아 교수님</td>\n",
       "      <td>간호연구방법론</td>\n",
       "      <td>NRSG234</td>\n",
       "      <td>전공선택</td>\n",
       "      <td>2학점</td>\n",
       "    </tr>\n",
       "    <tr>\n",
       "      <th>3</th>\n",
       "      <td>설근희 교수님</td>\n",
       "      <td>기초간호과학II</td>\n",
       "      <td>NRSG241</td>\n",
       "      <td>전공선택</td>\n",
       "      <td>2학점</td>\n",
       "    </tr>\n",
       "    <tr>\n",
       "      <th>4</th>\n",
       "      <td>설근희,강푸름 교수님</td>\n",
       "      <td>기초간호과학III</td>\n",
       "      <td>NRSG243</td>\n",
       "      <td>전공선택</td>\n",
       "      <td>3학점</td>\n",
       "    </tr>\n",
       "  </tbody>\n",
       "</table>\n",
       "</div>"
      ],
      "text/plain": [
       "  ProfessorName  className AcademicNumber Classification Credit\n",
       "0       오원옥 교수님      간호학개론        NRSG217           전공선택    1학점\n",
       "1       강지원 교수님   간호정보학및실습        NRSG233           전공선택    2학점\n",
       "2       추진아 교수님    간호연구방법론        NRSG234           전공선택    2학점\n",
       "3       설근희 교수님   기초간호과학II        NRSG241           전공선택    2학점\n",
       "4   설근희,강푸름 교수님  기초간호과학III        NRSG243           전공선택    3학점"
      ]
     },
     "execution_count": 83,
     "metadata": {},
     "output_type": "execute_result"
    }
   ],
   "source": [
    "merged[['ProfessorName','className','AcademicNumber','Classification','Credit']].head()"
   ]
  },
  {
   "cell_type": "code",
   "execution_count": 63,
   "metadata": {},
   "outputs": [
    {
     "data": {
      "text/html": [
       "<div>\n",
       "<style scoped>\n",
       "    .dataframe tbody tr th:only-of-type {\n",
       "        vertical-align: middle;\n",
       "    }\n",
       "\n",
       "    .dataframe tbody tr th {\n",
       "        vertical-align: top;\n",
       "    }\n",
       "\n",
       "    .dataframe thead th {\n",
       "        text-align: right;\n",
       "    }\n",
       "</style>\n",
       "<table border=\"1\" class=\"dataframe\">\n",
       "  <thead>\n",
       "    <tr style=\"text-align: right;\">\n",
       "      <th></th>\n",
       "      <th>ProfessorName</th>\n",
       "      <th>className</th>\n",
       "      <th>LectureEval</th>\n",
       "    </tr>\n",
       "  </thead>\n",
       "  <tbody>\n",
       "    <tr>\n",
       "      <th>0</th>\n",
       "      <td>오원옥 교수님</td>\n",
       "      <td>간호학개론</td>\n",
       "      <td>['간호학개론이라는 강의명 답게 간호학의 기초를 배웠어요. 교수님 강의력 뛰어나시고...</td>\n",
       "    </tr>\n",
       "    <tr>\n",
       "      <th>1</th>\n",
       "      <td>강지원 교수님</td>\n",
       "      <td>간호정보학및실습</td>\n",
       "      <td>['수업이 다소 지루하지만 발전하는 의료기기를 생각하면 들을 가치있는 수업이다. 학...</td>\n",
       "    </tr>\n",
       "    <tr>\n",
       "      <th>2</th>\n",
       "      <td>추진아 교수님</td>\n",
       "      <td>간호연구방법론</td>\n",
       "      <td>['팀플로 논문을 쓰는 수업이기 때문에 한달동안 논문을 작성해야하는 수업이기 때문에...</td>\n",
       "    </tr>\n",
       "    <tr>\n",
       "      <th>3</th>\n",
       "      <td>설근희 교수님</td>\n",
       "      <td>기초간호과학II</td>\n",
       "      <td>['비록 학점을 못받았지만 그건 제가 공부를 못해서고....ㅠㅜ\\n간호학과 2학년 ...</td>\n",
       "    </tr>\n",
       "    <tr>\n",
       "      <th>4</th>\n",
       "      <td>설근희,강푸름 교수님</td>\n",
       "      <td>기초간호과학III</td>\n",
       "      <td>['병태생리학을 배웁니다. 교수님 목소리가 조용하셔서 집중해서 들어야 수업을 잘 따...</td>\n",
       "    </tr>\n",
       "  </tbody>\n",
       "</table>\n",
       "</div>"
      ],
      "text/plain": [
       "  ProfessorName  className                                        LectureEval\n",
       "0       오원옥 교수님      간호학개론  ['간호학개론이라는 강의명 답게 간호학의 기초를 배웠어요. 교수님 강의력 뛰어나시고...\n",
       "1       강지원 교수님   간호정보학및실습  ['수업이 다소 지루하지만 발전하는 의료기기를 생각하면 들을 가치있는 수업이다. 학...\n",
       "2       추진아 교수님    간호연구방법론  ['팀플로 논문을 쓰는 수업이기 때문에 한달동안 논문을 작성해야하는 수업이기 때문에...\n",
       "3       설근희 교수님   기초간호과학II  ['비록 학점을 못받았지만 그건 제가 공부를 못해서고....ㅠㅜ\\n간호학과 2학년 ...\n",
       "4   설근희,강푸름 교수님  기초간호과학III  ['병태생리학을 배웁니다. 교수님 목소리가 조용하셔서 집중해서 들어야 수업을 잘 따..."
      ]
     },
     "execution_count": 63,
     "metadata": {},
     "output_type": "execute_result"
    }
   ],
   "source": [
    "merged[['ProfessorName','className','LectureEval']].head()"
   ]
  },
  {
   "cell_type": "code",
   "execution_count": 64,
   "metadata": {},
   "outputs": [
    {
     "data": {
      "text/html": [
       "<div>\n",
       "<style scoped>\n",
       "    .dataframe tbody tr th:only-of-type {\n",
       "        vertical-align: middle;\n",
       "    }\n",
       "\n",
       "    .dataframe tbody tr th {\n",
       "        vertical-align: top;\n",
       "    }\n",
       "\n",
       "    .dataframe thead th {\n",
       "        text-align: right;\n",
       "    }\n",
       "</style>\n",
       "<table border=\"1\" class=\"dataframe\">\n",
       "  <thead>\n",
       "    <tr style=\"text-align: right;\">\n",
       "      <th></th>\n",
       "      <th>ProfessorName</th>\n",
       "      <th>className</th>\n",
       "      <th>s1</th>\n",
       "      <th>s2</th>\n",
       "      <th>achievement</th>\n",
       "      <th>grade</th>\n",
       "      <th>chulseok</th>\n",
       "    </tr>\n",
       "  </thead>\n",
       "  <tbody>\n",
       "    <tr>\n",
       "      <th>0</th>\n",
       "      <td>오원옥 교수님</td>\n",
       "      <td>간호학개론</td>\n",
       "      <td>3.0</td>\n",
       "      <td>3.0</td>\n",
       "      <td>4.0</td>\n",
       "      <td>3.8</td>\n",
       "      <td>5.0</td>\n",
       "    </tr>\n",
       "    <tr>\n",
       "      <th>1</th>\n",
       "      <td>강지원 교수님</td>\n",
       "      <td>간호정보학및실습</td>\n",
       "      <td>1.0</td>\n",
       "      <td>3.0</td>\n",
       "      <td>1.9</td>\n",
       "      <td>3.6</td>\n",
       "      <td>4.0</td>\n",
       "    </tr>\n",
       "    <tr>\n",
       "      <th>2</th>\n",
       "      <td>추진아 교수님</td>\n",
       "      <td>간호연구방법론</td>\n",
       "      <td>1.0</td>\n",
       "      <td>3.0</td>\n",
       "      <td>3.1</td>\n",
       "      <td>2.7</td>\n",
       "      <td>5.0</td>\n",
       "    </tr>\n",
       "    <tr>\n",
       "      <th>3</th>\n",
       "      <td>설근희 교수님</td>\n",
       "      <td>기초간호과학II</td>\n",
       "      <td>1.0</td>\n",
       "      <td>2.0</td>\n",
       "      <td>3.7</td>\n",
       "      <td>3.0</td>\n",
       "      <td>5.0</td>\n",
       "    </tr>\n",
       "    <tr>\n",
       "      <th>4</th>\n",
       "      <td>설근희,강푸름 교수님</td>\n",
       "      <td>기초간호과학III</td>\n",
       "      <td>1.0</td>\n",
       "      <td>2.0</td>\n",
       "      <td>3.4</td>\n",
       "      <td>3.3</td>\n",
       "      <td>4.7</td>\n",
       "    </tr>\n",
       "  </tbody>\n",
       "</table>\n",
       "</div>"
      ],
      "text/plain": [
       "  ProfessorName  className   s1   s2  achievement  grade  chulseok\n",
       "0       오원옥 교수님      간호학개론  3.0  3.0          4.0    3.8       5.0\n",
       "1       강지원 교수님   간호정보학및실습  1.0  3.0          1.9    3.6       4.0\n",
       "2       추진아 교수님    간호연구방법론  1.0  3.0          3.1    2.7       5.0\n",
       "3       설근희 교수님   기초간호과학II  1.0  2.0          3.7    3.0       5.0\n",
       "4   설근희,강푸름 교수님  기초간호과학III  1.0  2.0          3.4    3.3       4.7"
      ]
     },
     "execution_count": 64,
     "metadata": {},
     "output_type": "execute_result"
    }
   ],
   "source": [
    "merged[['ProfessorName','className','s1','s2','achievement','grade','chulseok']].head()"
   ]
  },
  {
   "cell_type": "code",
   "execution_count": 6,
   "metadata": {},
   "outputs": [],
   "source": [
    "from sklearn.decomposition import PCA\n",
    "from sklearn.manifold import TSNE\n",
    "\n",
    "\n",
    "tsne_data = TSNE(learning_rate=300, init='pca').fit_transform(data)\n",
    "\n",
    "# data=pd.DataFrame(haha).T\n",
    "# pca = PCA(n_components=2)\n",
    "# y = pca.fit_transform(data)\n",
    "\n",
    "# data['pca_x']=y[:,0]\n",
    "# data['pca_y']=y[:,1]"
   ]
  },
  {
   "cell_type": "code",
   "execution_count": 100,
   "metadata": {},
   "outputs": [
    {
     "data": {
      "image/png": "[encoded data removed]",
      "text/plain": [
       "<Figure size 720x720 with 1 Axes>"
      ]
     },
     "metadata": {
      "needs_background": "light"
     },
     "output_type": "display_data"
    }
   ],
   "source": [
    "import matplotlib.pyplot as plt \n",
    "import seaborn as sns\n",
    "from matplotlib import font_manager,rc\n",
    "\n",
    "font_path = \"C:/Windows/Fonts/HMFMPYUN.TTF\"\n",
    "font_name = font_manager.FontProperties(fname=font_path).get_name()\n",
    "rc('font',family=font_name)\n",
    "\n",
    "plt.figure(figsize=(10,10))\n",
    "for i,an in enumerate(data.index.values):\n",
    "\n",
    "    x = data['V1'].iloc[i]\n",
    "    y = data['V2'].iloc[i]\n",
    "    plt.scatter(x, y, marker='x', color='blue')\n",
    "    if (i+5)%100==0:\n",
    "        plt.text(x+0.01, y+0.01, data['classname'].iloc[i], fontsize=10,color='black')\n",
    "        \n",
    "plt.show()\n",
    "\n"
   ]
  },
  {
   "cell_type": "code",
   "execution_count": 76,
   "metadata": {},
   "outputs": [
    {
     "name": "stdout",
     "output_type": "stream",
     "text": [
      " C 드라이브의 볼륨에는 이름이 없습니다.\n",
      " 볼륨 일련 번호: FEDA-124D\n",
      "\n",
      " C:\\tensor_code\\kluebot\\Recommendation_System\\recommendation\\tfidf 디렉터리\n",
      "\n",
      "2019-12-28  오후 03:33    <DIR>          .\n",
      "2019-12-28  오후 03:33    <DIR>          ..\n",
      "2019-12-22  오후 02:55    <DIR>          .ipynb_checkpoints\n",
      "2019-09-19  오후 09:06    <DIR>          .vscode\n",
      "2019-12-27  오후 04:26             6,376 apply_tfidf.py\n",
      "2019-12-28  오후 03:33           263,677 experiment.ipynb\n",
      "2019-10-03  오후 11:51             2,155 klue_preprocess_keyword.py\n",
      "2019-12-27  오후 04:27        31,062,193 lecture_vector_2017_1.csv\n",
      "2019-12-22  오후 02:32        29,614,173 lecture_vector_2017_2.csv\n",
      "2019-12-22  오후 02:34        30,406,755 lecture_vector_2018_1.csv\n",
      "2019-12-24  오후 10:59        10,170,326 lecture_vector_2018_2.csv\n",
      "2019-12-22  오후 02:41               692 README.MD\n",
      "2019-12-27  오후 04:27             7,879 voacb_2017_1.pickle\n",
      "2019-12-24  오후 10:59             7,527 voacb_2018_2.pickle\n",
      "              10개 파일         101,541,753 바이트\n",
      "               4개 디렉터리  39,812,870,144 바이트 남음\n"
     ]
    }
   ],
   "source": [
    "!dir"
   ]
  },
  {
   "cell_type": "code",
   "execution_count": null,
   "metadata": {},
   "outputs": [],
   "source": []
  }
 ],
 "metadata": {
  "kernelspec": {
   "display_name": "Python 3",
   "language": "python",
   "name": "python3"
  },
  "language_info": {
   "codemirror_mode": {
    "name": "ipython",
    "version": 3
   },
   "file_extension": ".py",
   "mimetype": "text/x-python",
   "name": "python",
   "nbconvert_exporter": "python",
   "pygments_lexer": "ipython3",
   "version": "3.6.8"
  }
 },
 "nbformat": 4,
 "nbformat_minor": 2
}
